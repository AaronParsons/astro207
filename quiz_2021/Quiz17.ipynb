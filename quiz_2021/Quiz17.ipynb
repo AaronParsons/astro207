{
 "cells": [
  {
   "cell_type": "markdown",
   "metadata": {},
   "source": [
    "# C207 Activity Sheet 17"
   ]
  },
  {
   "cell_type": "markdown",
   "metadata": {},
   "source": [
    "<img src=\"grain_abs.png\" width=401>\n",
    "Emissivity coefficients, from Chiang et al. (2001, ApJ, 547, 1077). Note that $\\log\\epsilon$ represents the natural logarithm.\n",
    "\n",
    "# Problem 1. Grain Absorption\n",
    "\n",
    "Explain the structure you see in the _emissivities_ plotted above\n",
    "as a function of wavelength and grain size.\n",
    "How would these curves look different for absorption? Scattering?"
   ]
  },
  {
   "cell_type": "markdown",
   "metadata": {},
   "source": [
    "__Answer:__"
   ]
  },
  {
   "cell_type": "markdown",
   "metadata": {},
   "source": [
    "# Problem 2. Foggy, Foggy Dew\n",
    "\n",
    "Why do you need to dim your headlights when it is foggy but not when it is raining?  \n",
    "Does fog/rain impact the light seen by oncoming cars from your headlights?"
   ]
  },
  {
   "cell_type": "markdown",
   "metadata": {},
   "source": [
    "__Answer:__"
   ]
  },
  {
   "cell_type": "markdown",
   "metadata": {},
   "source": [
    "# Problem 3. Nothing But Blue Skies\n",
    "\n",
    "How much more blue than red is in \"sky blue\" (including the effects of optical thickness?\n",
    "(The scale height of our atmosphere is roughly $\\sim10$ km).\n",
    "How big are the scatterers that cause our sky to be blue?"
   ]
  },
  {
   "cell_type": "code",
   "execution_count": 1,
   "metadata": {},
   "outputs": [],
   "source": [
    "# Calculations here"
   ]
  },
  {
   "cell_type": "markdown",
   "metadata": {},
   "source": [
    "__Answer:__"
   ]
  },
  {
   "cell_type": "markdown",
   "metadata": {},
   "source": [
    "# Problem 4. Total Eclipse of the ...\n",
    "\n",
    "There will be a lunar eclipse tonight from 11p to 3a. Apparently, this is supposed to be a particularly long one. What factors influence the duration of a lunar eclipse? What must be conspiring to make this one long?"
   ]
  },
  {
   "cell_type": "markdown",
   "metadata": {},
   "source": [
    "__Answer:__"
   ]
  },
  {
   "cell_type": "markdown",
   "metadata": {},
   "source": [
    "# Problem 5. Transits\n",
    "\n",
    "Planets passing in front of (transitting) their host stars is how we've discovered most of the exoplanets\n",
    "we know about. If a alien astronomer were observing an Earth transit, how much would they observe the\n",
    "Sun's light to dim by?"
   ]
  },
  {
   "cell_type": "code",
   "execution_count": 1,
   "metadata": {},
   "outputs": [],
   "source": [
    "# Calculations here"
   ]
  },
  {
   "cell_type": "markdown",
   "metadata": {},
   "source": [
    "__Answer:__"
   ]
  },
  {
   "cell_type": "markdown",
   "metadata": {},
   "source": [
    "# Problem 6. Catastrophe?\n",
    "\n",
    "<img src=\"./sync_self_compton.png\" width=\"50%\" />\n",
    "\n",
    "The figure above shows synchrotron and synchrotron self-Compton \n",
    "spectra of Mkn 501 (Konopelko et al. 2003, ApJ, 597, 851).  The\n",
    "ordinate $\\nu F_\\nu$ on this plot is proportional to flux density per logarithmic\n",
    "frequency range, so the relative heights of the two peaks reflect their\n",
    "relative contributions to $U_{\\rm rad}$.\n",
    "What is the implied maximum $\\gamma$ of the emitting electrons?\n",
    "How close is this spectrum to a Compton catastrophe?"
   ]
  },
  {
   "cell_type": "code",
   "execution_count": 1,
   "metadata": {},
   "outputs": [],
   "source": [
    "# Calculations here"
   ]
  },
  {
   "cell_type": "markdown",
   "metadata": {},
   "source": [
    "__Answer:__"
   ]
  }
 ],
 "metadata": {
  "kernelspec": {
   "display_name": "Python 3",
   "language": "python",
   "name": "python3"
  },
  "language_info": {
   "codemirror_mode": {
    "name": "ipython",
    "version": 3
   },
   "file_extension": ".py",
   "mimetype": "text/x-python",
   "name": "python",
   "nbconvert_exporter": "python",
   "pygments_lexer": "ipython3",
   "version": "3.8.10"
  }
 },
 "nbformat": 4,
 "nbformat_minor": 4
}
