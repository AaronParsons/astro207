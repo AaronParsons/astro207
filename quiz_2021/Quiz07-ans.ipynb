{
 "cells": [
  {
   "cell_type": "markdown",
   "metadata": {},
   "source": [
    "# C207 Activity Sheet 7 Solutions"
   ]
  },
  {
   "cell_type": "markdown",
   "metadata": {},
   "source": [
    "## 1. Describe in words the transition governed by each Einstein coefficient."
   ]
  },
  {
   "cell_type": "markdown",
   "metadata": {},
   "source": [
    "$A_{21}$ governs spontaneous emission of a photon by an excited atom.  $B_{12}$ governs the absorption\n",
    "of a photon to transition an atom to the excited state.  $B_{21}$ governs stimulated emission, in which\n",
    "the presence of a photon encourages the decay from an excited state."
   ]
  },
  {
   "cell_type": "markdown",
   "metadata": {},
   "source": [
    "## 2. What are the units of each Einstein coefficient?"
   ]
  },
  {
   "cell_type": "markdown",
   "metadata": {},
   "source": [
    "$A_{21}$ is a decay rate, with units of s$^{-1}$.  $B_{21}$ and $B_{12}$ have the same units, which you can\n",
    "get from the fact that transition rates (units of 1/s) go as $B\\bar J$.  $\\bar J$, the angle-averaged intensity, has\n",
    "units of ergs/s/Hz/sr/cm$^2$, so $B$ has units of cm$^2$ sr Hz / ergs."
   ]
  },
  {
   "cell_type": "markdown",
   "metadata": {},
   "source": [
    "## 3. Using Einstein Coefficients, write the equation that describes statistical equilibrium for 2-state atoms undergoing absorption/emission of photons from a background radiation field."
   ]
  },
  {
   "cell_type": "markdown",
   "metadata": {},
   "source": [
    "\\begin{equation}\n",
    "n_2A_{21}=(n_1B_{12}-n_2B_{21})\\bar J\n",
    "\\end{equation}"
   ]
  },
  {
   "cell_type": "markdown",
   "metadata": {},
   "source": [
    "## 4. What are the Einstein relations between these coefficients?"
   ]
  },
  {
   "cell_type": "markdown",
   "metadata": {},
   "source": [
    "Assuming statistical equilibruim so that $\\bar J\\to B_\\nu$ and $n_2/n_1$ follows the Boltzmann distribution, we get that\n",
    "\\begin{align}\n",
    "g_1B_{12}&=g_2B_{21}\\\\\n",
    "A_{21}&=\\frac{2h\\nu^3}{c^2}B_{21}\n",
    "\\end{align}"
   ]
  },
  {
   "cell_type": "markdown",
   "metadata": {},
   "source": [
    "## 5. I See Aluminum and I Want to Paint it White\n",
    "Using the terminology introduced in the discussion of Radiative Equilibrium (e.g. $\\alpha_J$,\n",
    "$\\alpha_B$, $J$, $T$), estimate fractionally how much hotter you'd expect a piece of aluminum in space (where\n",
    "it is thermally isolated) to be relative to the same piece painted white."
   ]
  },
  {
   "cell_type": "markdown",
   "metadata": {},
   "source": [
    "We worked out that the temperature of a material in Radiative Equilibrium (sometimes called \"Bolometric\" \n",
    "Radiative Equilibrium to reflect the total balance of energy across all frequencies) is given by the equation:\n",
    "\\begin{equation}\n",
    "T=\\left(\\frac{\\alpha_J}{\\alpha_B}\\frac{\\pi}{\\sigma}J\\right)^\\frac14\n",
    "\\end{equation}\n",
    "where $\\alpha_J$ and $\\alpha_B$ are the extinction coefficients averaged across the intensity of the \n",
    "incoming ($J$) and outgoing ($B$) flux spectra. If we assume $\\alpha_B$ doesn’t change too much \n",
    "when the temperature of the aluminum changes (which it might, depending on how much the change is), then\n",
    "\\begin{equation}\n",
    "\\frac{T_1}{T_0}\\sim\\left(\\frac{\\alpha_{J_1}}{\\alpha_{J_0}}\\right)^\\frac14\n",
    "\\end{equation}\n",
    "So we need to estimate the change in absorptivity between bare aluminum and white paint. Aluminum is kind of light grey colored, so we might estimate its absorptivity to be something in the range of 0.2. A perfect white paint would have absorptivity of 0, but that’s probably unrealistic here. I’d guess that a \"good\" white might by 99\\% white, with an absorptivity of 0.01. This gives a temperature ratio of 20$^\\frac14\\sim2$."
   ]
  },
  {
   "cell_type": "markdown",
   "metadata": {},
   "source": [
    "## 6. Is it clear?\n",
    "$A_{21}$ for the 21cm hyperfine transition of H is about $3\\cdot 10^{-15}$ s$^{-1}$.  The \n",
    "frequency width of this transition is often set by the thermal motion of gas. Assuming\n",
    "$\\Delta\\nu\\approx \\nu_0 v/c$, where $\\frac12 mv^2=kT$, we get $\\Delta\\nu\\approx1$ kHz.\n",
    "If a \n",
    "HI cloud in our galaxy has a temperature of 100 K and about 10 hydrogen atoms per\n",
    "cubic cm, how big does it need to be to be optically thick in 21 cm?  (Many such such clouds\n",
    "*are* optically thick, so think carefully...).  How many such clouds do you think are\n",
    "in the Milky Way?"
   ]
  },
  {
   "cell_type": "markdown",
   "metadata": {},
   "source": [
    "Ignoring stimulated emission, we can use that $\\alpha_\\nu=n_1\\sigma_{12}\\sim\\frac1{4\\pi}h\\nu n_1B_{12}\\phi(\\nu)$. Using\n",
    "our Einstein relations and estimating that $\\phi(\\nu)\\sim1/\\Delta\\nu$, we have\n",
    "\\begin{equation}\n",
    "\\sigma_{12}\\sim\\frac{\\lambda^2}{4\\pi}\\frac{A_{21}}{\\Delta\\nu}.\n",
    "\\end{equation}\n",
    "Once we have a value for this, then we'll just use $n\\sigma s=\\tau\\sim1$ to solve for the size of the\n",
    "cloud, $s$.  To get $\\Delta\\nu$, we use $\\frac{c}{\\lambda}\\frac{\\tilde v}{c}=\\sqrt{\\frac{2kT}{m\\lambda^2}}$, \n",
    "with $k=1\\cdot10^{-16}$, $T=100$ K, and $m=1\\cdot10^{-24}$ g.\n",
    "This gives us a value of $\\Delta\\nu\\sim7\\cdot10^3$ Hz.  This translates to a value of $\\sigma_{12}\\sim2\\cdot10^{-17}$.  For $\\tau\\sim1$,\n",
    "we need $s\\sim1/n\\sigma\\sim6\\cdot10^{15}$ cm.  This is too small---only about 1/1000 of a pc!  So what happened?  We weren't careful enough.\n",
    "\n",
    "The coarse estimate we used assumed that all H atoms were in the ground state and were able to absorb photons, but in fact\n",
    "they aren't.  Particularly for a transition with such a very low energy, the ratio of states is going to be statistically determined,\n",
    "and we'll need to compensate for the \"negative absorption\" of stimulated emission.  If we'd \n",
    "not ignored stimulated emission in our relations, we'd have picked up a factor of $(1-e^{-\\frac{h\\nu}{kT}})$ in our equation for\n",
    "$\\sigma_{12}$.  This factor turns out to be important: $h\\nu\\sim8\\cdot10^{-18}$ and $kT\\sim1e-14$, so $e^{-\\frac{h\\nu}{kT}}\\sim1-1\\cdot10^{-3}$.  By\n",
    "incorrectly treating $(1-e^{-\\frac{h\\nu}{kT}})$ as a factor of unity, we we wrong by 3 orders of magnitude!  Correcting for our omission (and emission),\n",
    "we get a cloud scale of about 1 pc.\n",
    "\n",
    "How many of these should there be?  Presumably quite a few.  Our galaxy is about 10 kpc in radius and 100 pc thick.  So at a maximum,\n",
    "we could fit probably about 30 billion clouds, but that seems like too many: our galaxy \"only\" has about 100 billion stars, and 1 cloud\n",
    "per 3 stars seems high.  By mass, a 1 pc cloud of $n=100$ cm$^{-3}$ has almost exactly 1 $M_\\odot$ of hydrogen, so we might estimate that\n",
    "each star came from a cloud like this.\n",
    "Does that mean $1e11$ clouds?  No!\n",
    "These clouds are much shorter lived than stars are.  A typical star lives for 10 Gyrs (most stars are small and live long). A star-forming cloud only lasts for about 10 Myrs, so you'd expect to see 1/1000 as many clouds.  So maybe\n",
    "100 million in our galaxy?\n"
   ]
  }
 ],
 "metadata": {
  "kernelspec": {
   "display_name": "Python 3",
   "language": "python",
   "name": "python3"
  },
  "language_info": {
   "codemirror_mode": {
    "name": "ipython",
    "version": 3
   },
   "file_extension": ".py",
   "mimetype": "text/x-python",
   "name": "python",
   "nbconvert_exporter": "python",
   "pygments_lexer": "ipython3",
   "version": "3.8.10"
  }
 },
 "nbformat": 4,
 "nbformat_minor": 4
}
