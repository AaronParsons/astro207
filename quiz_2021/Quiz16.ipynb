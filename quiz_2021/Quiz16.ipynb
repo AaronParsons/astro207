{
 "cells": [
  {
   "cell_type": "markdown",
   "metadata": {},
   "source": [
    "# C207 Activity Sheet 16"
   ]
  },
  {
   "cell_type": "markdown",
   "metadata": {},
   "source": [
    "# Problem 1. In the electron's (instantaneous) rest frame, what causes the acceleration that gives rise to synchrotron emission in the lab frame?"
   ]
  },
  {
   "cell_type": "markdown",
   "metadata": {},
   "source": [
    "__Answer:__"
   ]
  },
  {
   "cell_type": "markdown",
   "metadata": {},
   "source": [
    "# Problem 2. The Blob\n",
    "\n",
    "Based on Rybicki \\& Lightman 4.7.\n",
    "\n",
    "An object emits a blob of material at speed $v$ at an angle $\\theta$ to\n",
    "the line-of-sight of a distant observer.\n",
    "\n",
    "## 2.1\n",
    "Show that the apparent transverse velocity inferred by the observer\n",
    "(i.e. the angular velocity on the sky times the distance to the object) is\n",
    "\\begin{equation}\n",
    "v_{app}=\\frac{v\\sin\\theta}{1-(v/c)\\cos\\theta}\n",
    "\\end{equation}\n",
    "\n",
    "## 2.2\n",
    "Show that $v_{app}$ can exceed $c$; find the angle for which $v_{app}$ is maximum,\n",
    "and show that this maximum is $v_{max}=\\gamma v$."
   ]
  },
  {
   "cell_type": "code",
   "execution_count": 1,
   "metadata": {},
   "outputs": [],
   "source": [
    "# Calculations here"
   ]
  },
  {
   "cell_type": "markdown",
   "metadata": {},
   "source": [
    "__Answer:__"
   ]
  },
  {
   "cell_type": "markdown",
   "metadata": {},
   "source": [
    "# Problem 3. Great Balls of (Relativistic) Fire\n",
    "\n",
    "It is sometimes argued that a source of radiation that\n",
    "undergoes a fluctuation of duration $\\Delta t$ must have a physical\n",
    "diameter of order $D\\lesssim c\\Delta t$.  This argument is based on the\n",
    "fact that even if all portions of the source undergo a disturbance at the same instant\n",
    "and for an infinitesimal period of time, the resulting signal at the\n",
    "observer will be smeared out over a time interval of $\\Delta t_{min}\\sim D/c$\n",
    "because of the finite light travel time across the source.  Suppose, however,\n",
    "that the source is an optically thick spherical shell of radius $R(t)$ that\n",
    "is expanding with relativistic velocity $\\beta\\sim1$,$\\gamma\\gg1$ and energized\n",
    "by a stationary point at its center.\n",
    "By consideration of relativistic beaming effects,\n",
    "show that if the observer sees a fluctuation from the shell of duration $\\Delta t$\n",
    "at time $t$, the source may actually be of radius\n",
    "\\begin{equation}\n",
    "R<2\\gamma^2c\\Delta t\n",
    "\\end{equation}\n",
    "rather than the much smaller limit given by the nonrelativistic considerations.\n",
    "In the rest frame of the shell surface, each surface element may be treated\n",
    "as an isotropic emitter.\n",
    "\n",
    "This latter argument has been used to show that the active regions\n",
    "in quasars may be much larger than $c\\Delta t\\sim1$ light month across,\n",
    "and thus avoids much energy being crammed into so small a volume."
   ]
  },
  {
   "cell_type": "code",
   "execution_count": 2,
   "metadata": {},
   "outputs": [],
   "source": [
    "# Calculations here"
   ]
  },
  {
   "cell_type": "markdown",
   "metadata": {},
   "source": [
    "__Answer:__"
   ]
  },
  {
   "cell_type": "markdown",
   "metadata": {},
   "source": [
    "# Problem 4. Compton Monte Carlo\n",
    "\n",
    "A Monte Carlo proceeds by randomly generating events to model a complex process that might be\n",
    "too difficult simulate in detail.  On your homework, you'll be asked to generate a Monte Carlo\n",
    "process that can predict a photon spectrum from an electron energy distribution.  Here, we're going\n",
    "to work toward the first stage.  Start with a photon of energy $E_{in}$ and assume after a collision\n",
    "event\n",
    "\\begin{equation}\n",
    "E_{out}=E_{in}\\gamma^2(1-\\beta\\cos\\theta_1)(1+\\beta\\cos\\theta_2).\n",
    "\\end{equation}\n",
    "Assume $\\cos\\theta$ is drawn from a uniform distribution [-1,1].  Simulate a bunch of collisions for\n",
    "the same input photon energy and plot a histogram of the resulting output energies.  Choose $\\gamma=10$."
   ]
  },
  {
   "cell_type": "code",
   "execution_count": 3,
   "metadata": {},
   "outputs": [],
   "source": [
    "# Calculations here"
   ]
  },
  {
   "cell_type": "markdown",
   "metadata": {},
   "source": [
    "__Answer:__"
   ]
  }
 ],
 "metadata": {
  "kernelspec": {
   "display_name": "Python 3",
   "language": "python",
   "name": "python3"
  },
  "language_info": {
   "codemirror_mode": {
    "name": "ipython",
    "version": 3
   },
   "file_extension": ".py",
   "mimetype": "text/x-python",
   "name": "python",
   "nbconvert_exporter": "python",
   "pygments_lexer": "ipython3",
   "version": "3.8.10"
  }
 },
 "nbformat": 4,
 "nbformat_minor": 4
}
