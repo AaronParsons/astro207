{
 "cells": [
  {
   "cell_type": "markdown",
   "metadata": {},
   "source": [
    "# C207 Activity Sheet 4 Answers"
   ]
  },
  {
   "cell_type": "markdown",
   "metadata": {},
   "source": [
    "## 1. Why are Gaussians so prevalent in nature?"
   ]
  },
  {
   "cell_type": "markdown",
   "metadata": {},
   "source": [
    "Because the Central Limit Theorem tells as the the sum of many random processes converges, under many reasonable assumptions that apply generally in nature, to a Gaussian distribution, regardless of the distributions of the underlying processes."
   ]
  },
  {
   "cell_type": "markdown",
   "metadata": {},
   "source": [
    "## 2. In the absence of ambient light, what  is the emissivity of an ideal scatterer?"
   ]
  },
  {
   "cell_type": "markdown",
   "metadata": {},
   "source": [
    "In an ideal scatterer, $j_\\nu\\propto J_\\nu\\propto I_\\nu$, so if $I_\\nu=0$, $j_\\nu=0$."
   ]
  },
  {
   "cell_type": "markdown",
   "metadata": {},
   "source": [
    "## 3. Suppose I flip a coin 100 times and record the number of  heads $H$ and tails $T$.  What is the expected value of $\\sqrt{\\langle(H-T)^2\\rangle}$?"
   ]
  },
  {
   "cell_type": "markdown",
   "metadata": {},
   "source": [
    "Flipping heads and tails is a random walk, so we expect the deviation to grow as $\\sqrt{N}$ with the number of flips. $\\sqrt{100}=10$"
   ]
  },
  {
   "cell_type": "markdown",
   "metadata": {},
   "source": [
    "## 5. Scatter Away\n",
    "\n",
    "For this problem, assume you have photons sourced at a fixed rate from a star in the middle\n",
    "of a uniform spherical cloud of scatterers.\n",
    "\n",
    "* How does the time it takes a photon to escape a scattering medium scale with the optical depth of that medium?  \n",
    "* How does photon density scale with radius?\n",
    "* If it takes a photon 100 kyrs to escape from inside the Sun (this is, at best, a gross over-simplification) what is the implied optical depth of the Sun?"
   ]
  },
  {
   "cell_type": "code",
   "execution_count": 1,
   "metadata": {},
   "outputs": [],
   "source": [
    "t_escape = 100e3 # years for a photon to escape from the Sun\n",
    "# Calculations here"
   ]
  },
  {
   "cell_type": "markdown",
   "metadata": {},
   "source": [
    "Since diffusion time scales quadtratically with the number of scatterings, $N$, and $\\tau$ is the distance\n",
    "through the medium divided by the mean free path (i.e., $N$), then $t\\propto\\tau^2$.\n",
    "\n",
    "If photons are produced at a constant rate $L$, then the total number of photons enclosed within radius $r$ should\n",
    "be proportional to how much time they spend inside that radius ($Lt$).  We worked out in the previous\n",
    "problem that $t\\propto\\tau^2\\propto(r/\\lambda_{\\rm mfp})^2$.  The volume enclosed $V=\\frac43\\pi r^3$,\n",
    "so dividing the number of photons by the volume gives $\\langle n\\rangle\\propto r^{-1}$.  Note that we've\n",
    "used $\\langle n\\rangle$ here to indicate that we've calculated the *sphere-averaged* photon density.\n",
    "\n",
    "However, what we usually mean when we say number density is the local number density at position $\\vec r$.  To\n",
    "get that, we need to calculate the number of photons in a differential shell (not the total enclosed number) and\n",
    "divide by the volume of that shell.  If $N(r)$, the total number of photons enclosed, scales as $r^2$, then\n",
    "$dN/dr\\propto r$.  The volume of a shell goes as $r^2$, so $dN/dr$ divided by $dV/dr$ gives us $n\\propto r^{-1}$.\n",
    "Same answer!  Can you intuit why?\n",
    "\n",
    "The total escape time is the time to cross a mean-free-path, $\\lambda/c$, multiplied by the number of steps it takes to get out, which\n",
    "is $(r/\\lambda)^2$.  Hence, $t\\sim\\frac{\\lambda}{c}\\left(\\frac{r}{\\lambda}\\right)^2$.  We have that $t=100$ kyr$\\sim3\\cdot 10^{12}$ s, and\n",
    "we can look up that $r$ in this case (the radius of the Sun), is $\\sim8\\cdot10^{10}$ cm.  (If you don't remember this number, you can work it out\n",
    "from remembering what 1 AU is and that the Sun covers about 1/2 a degree on the sky).  Plugging in for the speed of light, I get\n",
    "that $\\lambda\\sim0.07$ cm.  That's short, but the Sun is dense, so maybe that makes sense.  Finally, we use that $\\tau=r/\\lambda$ to\n",
    "get that $\\tau\\sim1\\cdot 10^{12}$.  That's thick!\n",
    "Write a response here"
   ]
  },
  {
   "cell_type": "markdown",
   "metadata": {},
   "source": [
    "## 6. High Beams, Low Beams\n",
    "\n",
    "If you've driven in the fog at night, you know that it can be very hard to\n",
    "see with your high beams on.  Can you estimate for what optical depths\n",
    "to scattering it might be advantageous to use your low beams instead?"
   ]
  },
  {
   "cell_type": "code",
   "execution_count": 2,
   "metadata": {},
   "outputs": [],
   "source": [
    "# Calculations here"
   ]
  },
  {
   "cell_type": "markdown",
   "metadata": {},
   "source": [
    "We are seeing the road ahead of us at night because we are shining our headlights on it and seeing the reflected light.\n",
    "If more of our photons are reaching the road (and then back to our eye) than are scattering off the fog directly, then\n",
    "it's probably advantageous for us to use our high beams.  The number of photons that get through to the road will be\n",
    "proportional to $(1-e^{-\\tau})$, as will the number that return.  Hence, we'd like $(1-e^{-\\tau})^2\\gg e^{-\\tau}$.  If you\n",
    "crank out the math, you get that $1+e^{-2\\tau}\\gg3e^{-\\tau}$, which implies that $e^{-\\tau}\\gg\\frac13$.  Hence, we want\n",
    "to be firmly optically thin."
   ]
  },
  {
   "cell_type": "markdown",
   "metadata": {},
   "source": [
    "# 7. (Bonus) Cooking Tofurkey\n",
    "\n",
    "Cooking is the process of heat diffusion, and we generally rely on conduction to do the job. Conduction\n",
    "can be thought of as phonons (note the 'n': phonons are to sound as photons are to light) diffusing through a scattering medium.\n",
    "\n",
    "Knowing what you know about scattering, how should cooking time scale with the weight of your Tofurkey?"
   ]
  },
  {
   "cell_type": "code",
   "execution_count": 3,
   "metadata": {},
   "outputs": [],
   "source": [
    "# Calculations here"
   ]
  },
  {
   "cell_type": "markdown",
   "metadata": {},
   "source": [
    "In many ways, cooking looks like time-reversed radiation. Because cooking generally takes a while [citation needed] I'll assume that the thing we are cooking is optically thick to phonons, so that we can assume that\n",
    "diffusion time scales as $t\\propto\\tau^2$.  Using that $\\tau=r/\\lambda_{mfp}$ and assuming that our Tofurkey\n",
    "is of uniform density so that weight $W\\propto r^3$, we get that\n",
    "\\begin{equation}\n",
    "t\\propto r^2\\propto W^\\frac23\n",
    "\\end{equation}"
   ]
  }
 ],
 "metadata": {
  "kernelspec": {
   "display_name": "Python 3",
   "language": "python",
   "name": "python3"
  },
  "language_info": {
   "codemirror_mode": {
    "name": "ipython",
    "version": 3
   },
   "file_extension": ".py",
   "mimetype": "text/x-python",
   "name": "python",
   "nbconvert_exporter": "python",
   "pygments_lexer": "ipython3",
   "version": "3.8.10"
  }
 },
 "nbformat": 4,
 "nbformat_minor": 4
}
