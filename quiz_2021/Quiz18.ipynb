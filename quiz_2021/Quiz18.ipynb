{
 "cells": [
  {
   "cell_type": "markdown",
   "metadata": {},
   "source": [
    "# C207 Activity Sheet 18"
   ]
  },
  {
   "cell_type": "markdown",
   "metadata": {},
   "source": [
    "<img src=\"grain_abs.png\" width=401>\n",
    "Emissivity coefficients, from Chiang et al. (2001, ApJ, 547, 1077). Note that $\\log\\epsilon$ represents the natural logarithm.\n",
    "\n",
    "# Problem 1. Grain Absorption\n",
    "\n",
    "Explain the structure you see in the _emissivities_ plotted above\n",
    "as a function of wavelength and grain size.\n",
    "How would these curves look different for absorption? Scattering?"
   ]
  },
  {
   "cell_type": "markdown",
   "metadata": {},
   "source": [
    "__Answer:__"
   ]
  },
  {
   "cell_type": "markdown",
   "metadata": {},
   "source": [
    "# Problem 2. Foggy, Foggy Dew\n",
    "\n",
    "Why do you need to dim your headlights when it is foggy but not when it is raining?  \n",
    "Does fog/rain impact the light seen by oncoming cars from your headlights?"
   ]
  },
  {
   "cell_type": "markdown",
   "metadata": {},
   "source": [
    "__Answer:__"
   ]
  },
  {
   "cell_type": "markdown",
   "metadata": {},
   "source": [
    "# Problem 3. Nothing But Blue Skies\n",
    "\n",
    "How much more blue than red is in \"sky blue\" (including the effects of optical thickness?\n",
    "(The scale height of our atmosphere is roughly $\\sim10$ km).\n",
    "How big are the scatterers that cause our sky to be blue?"
   ]
  },
  {
   "cell_type": "code",
   "execution_count": 1,
   "metadata": {},
   "outputs": [],
   "source": [
    "# Calculations here"
   ]
  },
  {
   "cell_type": "markdown",
   "metadata": {},
   "source": [
    "__Answer:__"
   ]
  },
  {
   "cell_type": "markdown",
   "metadata": {},
   "source": [
    "# Problem 4. Our Pale Blue Dot\n",
    "\n",
    "What effect, if any, do blue skies have on the distribution of solar heating on the surface of the planet?\n",
    "Does the presence of blue light scatterers have a net warming or cooling effect overall? Is that effect latitude dependent?"
   ]
  },
  {
   "cell_type": "code",
   "execution_count": 2,
   "metadata": {},
   "outputs": [],
   "source": [
    "# Calculations here"
   ]
  },
  {
   "cell_type": "markdown",
   "metadata": {},
   "source": [
    "__Answer:__"
   ]
  }
 ],
 "metadata": {
  "kernelspec": {
   "display_name": "Python 3",
   "language": "python",
   "name": "python3"
  },
  "language_info": {
   "codemirror_mode": {
    "name": "ipython",
    "version": 3
   },
   "file_extension": ".py",
   "mimetype": "text/x-python",
   "name": "python",
   "nbconvert_exporter": "python",
   "pygments_lexer": "ipython3",
   "version": "3.8.10"
  }
 },
 "nbformat": 4,
 "nbformat_minor": 4
}
