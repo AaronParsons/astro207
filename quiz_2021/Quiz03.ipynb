{
 "cells": [
  {
   "cell_type": "markdown",
   "metadata": {},
   "source": [
    "# C207 Activity Sheet 3"
   ]
  },
  {
   "cell_type": "markdown",
   "metadata": {},
   "source": [
    "## 1. What formula relates the acceleration of a charge to the  power radiated?"
   ]
  },
  {
   "cell_type": "markdown",
   "metadata": {},
   "source": [
    "Write a response here"
   ]
  },
  {
   "cell_type": "markdown",
   "metadata": {},
   "source": [
    "## 2. Write an expression for a electromagnetic plane wave propagating in the $\\hat r$ direction."
   ]
  },
  {
   "cell_type": "markdown",
   "metadata": {},
   "source": [
    "Write a response here"
   ]
  },
  {
   "cell_type": "markdown",
   "metadata": {},
   "source": [
    "## 3. Write the energy density stored in an electromagnetic field in terms of $E$ and $B$."
   ]
  },
  {
   "cell_type": "markdown",
   "metadata": {},
   "source": [
    "Write a response here"
   ]
  },
  {
   "cell_type": "markdown",
   "metadata": {},
   "source": [
    "## 4. What does $\\frac{c}{4\\pi}\\vec E\\times\\vec B$ describe? How would you turn it into a specific intensity?"
   ]
  },
  {
   "cell_type": "markdown",
   "metadata": {},
   "source": [
    "Write a response here"
   ]
  },
  {
   "cell_type": "markdown",
   "metadata": {},
   "source": [
    "## 5. The Impedance of Free Space\n",
    "\n",
    "Impedance generalizes the concept of resistance in electrical\n",
    "circuits.  It relates the electromotive force\n",
    "(say, voltage) to the induced current.  Resistance is the real component\n",
    "of impedance, but circuits can also affect the phase of an\n",
    "oscillation, implying that impedance can more generally be a complex number.\n",
    "As it turns out, free space has an intrinsic non-zero impedance for an electromagnetic\n",
    "wave.  Can you figure out the value in Ohms?\n",
    "\n",
    "(Hint: imagine a plane wave impinging on a \"pizza box\" of thickness $\\Delta z$ and area $L_x \\times L_y$. Consider the Poynting flux and use EM-wave analogs for $P=IV$ and $V=IR$. An Ohm is\n",
    "1 $\\Omega^{-1}\\approx9\\times 10^{11}$ cm/s)."
   ]
  },
  {
   "cell_type": "code",
   "execution_count": 1,
   "metadata": {},
   "outputs": [],
   "source": [
    "ohm = 1 / 9e11 # s / cm, an Ohm in cgs\n",
    "# Calculations here"
   ]
  },
  {
   "cell_type": "markdown",
   "metadata": {},
   "source": [
    "Write a response here"
   ]
  },
  {
   "cell_type": "markdown",
   "metadata": {},
   "source": [
    "## 6. Feynman Disk Paradox\n",
    "\n",
    "Maybe you've heard this one.  Suppose you have a superconducting cylindrical \n",
    "disk (think DVD) with $N$ spheres of charge $q/N$ attached around the perimeter.\n",
    "The disk is constrained to only rotate axially around its center.  We\n",
    "will call this the $\\hat z$ axis.\n",
    "\n",
    "Superconductors can have magnetic fields frozen in, and this disk does, with\n",
    "$\\vec B=B_0\\hat z$.  Suppose the disk is allowed to warm up and stop \n",
    "superconducting, so that this magnetic field dissipates.  The change in $\\vec B$\n",
    "must induce a curl in the electric field, which will drive the charges\n",
    "around the perimeter of the disk in a circle, setting the disk spinning.\n",
    "The spinning disk now has angular momentum where it previously did not.  We\n",
    "know angular momentum is conserved, so where did it come from?"
   ]
  },
  {
   "cell_type": "code",
   "execution_count": 2,
   "metadata": {},
   "outputs": [],
   "source": [
    "# Calculations here"
   ]
  },
  {
   "cell_type": "markdown",
   "metadata": {},
   "source": [
    "Write a response here"
   ]
  },
  {
   "cell_type": "markdown",
   "metadata": {},
   "source": [
    "## 7. Dipole Spin-Down\n",
    "\n",
    "Suppose I have an electic dipole $\\vec d$ consisting of two charges $q$ and $-q$, each of mass $M$, separated by a vector $\\vec r$, and this dipole is spinning around its center of mass with an angular frequency $\\omega$ in a direction orthogonal to the dipole.\n",
    "\n",
    "How does the slow-down time (say, the \"half-life\" or the time it takes the rotor to lose half its rotational energy) scale with $\\omega$ and $q$?"
   ]
  },
  {
   "cell_type": "code",
   "execution_count": 3,
   "metadata": {},
   "outputs": [],
   "source": [
    "# Calculations here"
   ]
  },
  {
   "cell_type": "markdown",
   "metadata": {},
   "source": [
    "Write a response here"
   ]
  }
 ],
 "metadata": {
  "kernelspec": {
   "display_name": "Python 3",
   "language": "python",
   "name": "python3"
  },
  "language_info": {
   "codemirror_mode": {
    "name": "ipython",
    "version": 3
   },
   "file_extension": ".py",
   "mimetype": "text/x-python",
   "name": "python",
   "nbconvert_exporter": "python",
   "pygments_lexer": "ipython3",
   "version": "3.8.10"
  }
 },
 "nbformat": 4,
 "nbformat_minor": 4
}
