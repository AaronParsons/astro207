{
 "cells": [
  {
   "cell_type": "markdown",
   "metadata": {},
   "source": [
    "# C207 Activity Sheet 13"
   ]
  },
  {
   "cell_type": "markdown",
   "metadata": {},
   "source": [
    "# HeII Reionization\n",
    "\n",
    "After reionization (redshift $z\\sim6$, where $(1+z)$ measures the factor by which all spatial dimensions\n",
    "were smaller in the Universe then compared to today) essentially all hydrogen is ionized and\n",
    "heated to around $T\\sim15,000K$.  In the process,\n",
    "all intergalactic helium left over from nucleosynthesis is also singly ionized.  \n",
    "He$^+$ remains in the IGM ionized until about $z\\sim3$, when \n",
    "it is finally completely stripped of electrons. Today, we find there is about 1 H$^+$ atom\n",
    "per cubic meter in intergalactic space.\n",
    "\n",
    "## Problem 1.\n",
    "What is the collision rate for He$^+$ in the IGM at $z\\sim3$?"
   ]
  },
  {
   "cell_type": "code",
   "execution_count": 1,
   "metadata": {},
   "outputs": [],
   "source": [
    "z = 3 # redshift of HeII reionization\n",
    "T_IGM = 15e3 # K, temperature of IGM\n",
    "n_H_z0 = 2e-7 # cm^-3, number density of hydrogen in IGM today\n",
    "\n",
    "# Calculations here"
   ]
  },
  {
   "cell_type": "markdown",
   "metadata": {},
   "source": [
    "__Answer:__\n",
    "Write a response here"
   ]
  },
  {
   "cell_type": "markdown",
   "metadata": {},
   "source": [
    "## Problem 2.\n",
    "What is the spontaneous decay rate for the He$^+$ 2-1 transition?  \n",
    "Remember that He$^+$ is hydrogen-like and electronic transition energies scale as $Z^2$."
   ]
  },
  {
   "cell_type": "code",
   "execution_count": 2,
   "metadata": {},
   "outputs": [],
   "source": [
    "# Calculations here"
   ]
  },
  {
   "cell_type": "markdown",
   "metadata": {},
   "source": [
    "__Answer:__\n",
    "Write a response here"
   ]
  },
  {
   "cell_type": "markdown",
   "metadata": {},
   "source": [
    "## Problem 3.\n",
    "Are the excitation levels of He$^+$ set by collisions?"
   ]
  },
  {
   "cell_type": "code",
   "execution_count": 3,
   "metadata": {},
   "outputs": [],
   "source": [
    "# Calculations here"
   ]
  },
  {
   "cell_type": "markdown",
   "metadata": {},
   "source": [
    "__Answer:__\n",
    "Write a response here"
   ]
  },
  {
   "cell_type": "markdown",
   "metadata": {},
   "source": [
    "## Problem 4.\n",
    "The Cosmic Microwave Background (CMB) is made up of light released when H was first formed at $z\\sim1100$ (we'll discuss the Saha Equation governing this soon). After reionization (which happened, very roughly, 1 Gyr after the Big Bang; our Universe is 13.7 Gyrs old), it was possible for CMB photons to scatter off of free electrons in the\n",
    "IGM. Estimate the optical depth of this scattering, assuming light travels at the speed of light, even while space changes size."
   ]
  },
  {
   "cell_type": "code",
   "execution_count": 4,
   "metadata": {},
   "outputs": [],
   "source": [
    "t_year = 3.14e7 # seconds in a year\n",
    "t_z = {}\n",
    "t_z[6] = 0.94e9 * t_year # seconds from BB to z=6\n",
    "t_z[5] = 1.18e9 * t_year # seconds from BB to z=5\n",
    "t_z[4] = 1.55e9 * t_year # seconds from BB to z=4\n",
    "t_z[3] = 2.16e9 * t_year # seconds from BB to z=3\n",
    "t_z[2] = 3.30e9 * t_year # seconds from BB to z=2\n",
    "t_z[1] = 5.87e9 * t_year # seconds from BB to z=1\n",
    "t_z[0] = 13.8e9 * t_year # seconds from Big Bang to z=0 (now)\n",
    "# Calculations here"
   ]
  },
  {
   "cell_type": "markdown",
   "metadata": {},
   "source": [
    "__Answer:__\n",
    "Write a response here"
   ]
  }
 ],
 "metadata": {
  "kernelspec": {
   "display_name": "Python 3",
   "language": "python",
   "name": "python3"
  },
  "language_info": {
   "codemirror_mode": {
    "name": "ipython",
    "version": 3
   },
   "file_extension": ".py",
   "mimetype": "text/x-python",
   "name": "python",
   "nbconvert_exporter": "python",
   "pygments_lexer": "ipython3",
   "version": "3.8.10"
  }
 },
 "nbformat": 4,
 "nbformat_minor": 4
}
