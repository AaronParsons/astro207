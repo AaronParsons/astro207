{
 "cells": [
  {
   "cell_type": "markdown",
   "metadata": {},
   "source": [
    "# C207 Activity Sheet 7"
   ]
  },
  {
   "cell_type": "markdown",
   "metadata": {},
   "source": [
    "## 1. Describe in words the transition governed by each Einstein coefficient."
   ]
  },
  {
   "cell_type": "markdown",
   "metadata": {},
   "source": [
    "Write a response here"
   ]
  },
  {
   "cell_type": "markdown",
   "metadata": {},
   "source": [
    "## 2. What are the units of each Einstein coefficient?"
   ]
  },
  {
   "cell_type": "markdown",
   "metadata": {},
   "source": [
    "Write a response here"
   ]
  },
  {
   "cell_type": "markdown",
   "metadata": {},
   "source": [
    "## 3. Using Einstein Coefficients, write the equation that describes statistical equilibrium for 2-state atoms undergoing absorption/emission of photons from a background radiation field."
   ]
  },
  {
   "cell_type": "markdown",
   "metadata": {},
   "source": [
    "Write a response here"
   ]
  },
  {
   "cell_type": "markdown",
   "metadata": {},
   "source": [
    "## 4. What are the Einstein relations between these coefficients?"
   ]
  },
  {
   "cell_type": "markdown",
   "metadata": {},
   "source": [
    "Write a response here"
   ]
  },
  {
   "cell_type": "markdown",
   "metadata": {},
   "source": [
    "## 5. I See Aluminum and I Want to Paint it White\n",
    "Using the terminology introduced in the discussion of Radiative Equilibrium (e.g. $\\alpha_J$,\n",
    "$\\alpha_B$, $J$, $T$), estimate fractionally how much hotter you'd expect a piece of aluminum in space (where\n",
    "it is thermally isolated) to be relative to the same piece painted white."
   ]
  },
  {
   "cell_type": "code",
   "execution_count": 1,
   "metadata": {},
   "outputs": [],
   "source": [
    "# Calculations here"
   ]
  },
  {
   "cell_type": "markdown",
   "metadata": {},
   "source": [
    "Write a response here"
   ]
  },
  {
   "cell_type": "markdown",
   "metadata": {},
   "source": [
    "## 6. Is it clear?\n",
    "$A_{21}$ for the 21cm hyperfine transition of H is about $3\\cdot 10^{-15}$ s$^{-1}$.  The \n",
    "frequency width of this transition is often set by the thermal motion of gas. Assuming\n",
    "$\\Delta\\nu\\approx \\nu_0 v/c$, where $\\frac12 mv^2=kT$, we get $\\Delta\\nu\\approx1$ kHz.\n",
    "If a \n",
    "HI cloud in our galaxy has a temperature of 100 K and about 10 hydrogen atoms per\n",
    "cubic cm, how big does it need to be to be optically thick in 21 cm?  (Many such such clouds\n",
    "*are* optically thick, so think carefully...).  How many such clouds do you think are\n",
    "in the Milky Way?"
   ]
  },
  {
   "cell_type": "markdown",
   "metadata": {},
   "source": [
    "Write a response here"
   ]
  },
  {
   "cell_type": "code",
   "execution_count": 2,
   "metadata": {},
   "outputs": [],
   "source": [
    "# Calculations here"
   ]
  }
 ],
 "metadata": {
  "kernelspec": {
   "display_name": "Python 3",
   "language": "python",
   "name": "python3"
  },
  "language_info": {
   "codemirror_mode": {
    "name": "ipython",
    "version": 3
   },
   "file_extension": ".py",
   "mimetype": "text/x-python",
   "name": "python",
   "nbconvert_exporter": "python",
   "pygments_lexer": "ipython3",
   "version": "3.8.10"
  }
 },
 "nbformat": 4,
 "nbformat_minor": 4
}
