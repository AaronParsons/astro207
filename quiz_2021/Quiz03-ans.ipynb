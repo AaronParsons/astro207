{
 "cells": [
  {
   "cell_type": "markdown",
   "metadata": {},
   "source": [
    "# C207 Activity Sheet 3"
   ]
  },
  {
   "cell_type": "markdown",
   "metadata": {},
   "source": [
    "## 1. What formula relates the acceleration of a charge to the  power radiated?"
   ]
  },
  {
   "cell_type": "markdown",
   "metadata": {},
   "source": [
    "\\begin{equation}\n",
    "P=\\frac23\\frac{e^2a^2}{c^3}\n",
    "\\end{equation}"
   ]
  },
  {
   "cell_type": "markdown",
   "metadata": {},
   "source": [
    "## 2. Write an expression for a electromagnetic plane wave propagating in the $\\hat r$ direction."
   ]
  },
  {
   "cell_type": "markdown",
   "metadata": {},
   "source": [
    "\\begin{align}\n",
    "\\vec E&=E_0~e^{i(\\vec k\\vec r - \\omega t)}\\\\\n",
    "\\vec B&=B_0~e^{i(\\vec k\\vec r - \\omega t)}\n",
    "\\end{align}"
   ]
  },
  {
   "cell_type": "markdown",
   "metadata": {},
   "source": [
    "## 3. Write the energy density stored in an electromagnetic field in terms of $E$ and $B$."
   ]
  },
  {
   "cell_type": "markdown",
   "metadata": {},
   "source": [
    "\\begin{equation}\n",
    "U=\\frac{E^2}{8\\pi}+\\frac{B^2}{8\\pi}\n",
    "\\end{equation}"
   ]
  },
  {
   "cell_type": "markdown",
   "metadata": {},
   "source": [
    "## 4. What does $\\frac{c}{4\\pi}\\vec E\\times\\vec B$ describe? How would you turn it into a specific intensity?"
   ]
  },
  {
   "cell_type": "markdown",
   "metadata": {},
   "source": [
    "This is the Poynting Flux, which describes the energy per time per area (i.e. flux) carried off by an\n",
    "electromagnetic wave. To turn flux into specific intensity, we have to divide out by a solid angle and by a bandwidth.\n",
    "\n",
    "In the case of a plane wave, this is problematic since both are, technically, delta functions. Fortunately, quantum mechanics smooths over these problems by preventing us from having perfectly monochromatic light or perfectly constrained trajectories, so in real life, you wouldn't get the infinite intensity implied by a plane wave."
   ]
  },
  {
   "cell_type": "markdown",
   "metadata": {},
   "source": [
    "## 5. The Impedance of Free Space\n",
    "\n",
    "Impedance generalizes the concept of resistance in electrical\n",
    "circuits.  It relates the electromotive force\n",
    "(say, voltage) to the induced current.  Resistance is the real component\n",
    "of impedance, but circuits can also affect the phase of an\n",
    "oscillation, implying that impedance can more generally be a complex number.\n",
    "As it turns out, free space has an intrinsic non-zero impedance for an electromagnetic\n",
    "wave.  Can you figure out the value in Ohms?\n",
    "\n",
    "(Hint: imagine a plane wave impinging on a \"pizza box\" of thickness $\\Delta z$ and area $L_x \\times L_y$. Consider the Poynting flux and use EM-wave analogs for $P=IV$ and $V=IR$. An Ohm is\n",
    "1 $\\Omega^{-1}\\approx9\\times 10^{11}$ cm/s)."
   ]
  },
  {
   "cell_type": "code",
   "execution_count": 1,
   "metadata": {},
   "outputs": [],
   "source": [
    "ohm = 1 / 9e11 # s / cm, an Ohm in cgs\n",
    "# Calculations here"
   ]
  },
  {
   "cell_type": "markdown",
   "metadata": {},
   "source": [
    "For a plane wave with electric field amplitude $E_0$, we have\n",
    "\\begin{equation}\n",
    "\\frac{\\textrm{Energy}}{\\textrm{Area} \\cdot \\textrm{Time}} = \\frac{c}{4\\pi} E_0^2.\n",
    "\\end{equation}\n",
    "As the wave impinges on the pizza box, the amount of power we get is\n",
    "\\begin{equation}\n",
    "P = \\frac{c}{4 \\pi} E_0^2 L_x L_y.\n",
    "\\end{equation}\n",
    "If we make an analogy to electrical circuits, we have $P=IV$, and in this case (assuming the plane wave has its electric field polarized in the $x$ direction) $V= E_0 L_x$. This yields an effective \"current\" of\n",
    "\\begin{equation}\n",
    "I = \\frac{c}{4\\pi} E_0 L_y.\n",
    "\\end{equation}\n",
    "Now compare this to Ohm's law for EM waves. $J = \\sigma E$ tells us that the current density, $J$ (which has units of charge per velocity per volume or current per area), relates to the electric field (which has units of Volts per length) through the conductivity $\\sigma$ (which must then have units of 1/Ohms per length).\n",
    "\n",
    "From above, it must be true that\n",
    "\\begin{equation}\n",
    "\\sigma = \\frac{c}{4\\pi \\Delta z}.\n",
    "\\end{equation}\n",
    "This is inversely proportional to the volume resistivity. With a little dimensional analysis (or analogy to a wire), the resistivity is the impedance per length, so we can say that the impedance $Z$ of free space is\n",
    "\\begin{equation}\n",
    "Z = \\frac{4 \\pi}{c}.\n",
    "\\end{equation}\n",
    "Numerically, this comes out to be 377 $\\Omega$. Note that it's not entirely obvious that $\\Delta z$ is the right length to divide by to get the resistance (especially since there's no \"real\" current in the problem). But we know that the impedance of free space does not depend on $\\Delta z$, so in some sense the lengths all had to cancel out."
   ]
  },
  {
   "cell_type": "markdown",
   "metadata": {},
   "source": [
    "## 6. Feynman Disk Paradox\n",
    "\n",
    "Maybe you've heard this one.  Suppose you have a superconducting cylindrical \n",
    "disk (think DVD) with $N$ spheres of charge $q/N$ attached around the perimeter.\n",
    "The disk is constrained to only rotate axially around its center.  We\n",
    "will call this the $\\hat z$ axis.\n",
    "\n",
    "Superconductors can have magnetic fields frozen in, and this disk does, with\n",
    "$\\vec B=B_0\\hat z$.  Suppose the disk is allowed to warm up and stop \n",
    "superconducting, so that this magnetic field dissipates.  The change in $\\vec B$\n",
    "must induce a curl in the electric field, which will drive the charges\n",
    "around the perimeter of the disk in a circle, setting the disk spinning.\n",
    "The spinning disk now has angular momentum where it previously did not.  We\n",
    "know angular momentum is conserved, so where did it come from?"
   ]
  },
  {
   "cell_type": "code",
   "execution_count": 2,
   "metadata": {},
   "outputs": [],
   "source": [
    "# Calculations here"
   ]
  },
  {
   "cell_type": "markdown",
   "metadata": {},
   "source": [
    "The trick is that the electromagnetic field is storing the angular momentum initially.\n",
    "It's not crazy to expect that it can do this, since photons have both spin and momentum.\n",
    "But another way to see this is to evaluate the Poynting flux $\\frac{c}{4\\pi}\\vec E\\times\\vec B$.\n",
    "Since flux is energy per time per surface area and for photons, momentum is proportional to energy,\n",
    "we can define a momentum flux $\\vec F=\\frac{1}{4\\pi}\\vec E\\times\\vec B$.  Suppose we evaluate $\\vec F$\n",
    "in the plane of the disk, inside of the charges.  Our $\\vec E$ field points radially inward, but our $\\vec B$\n",
    "field points in the $\\hat z$ direction.  Thus, $\\vec E\\times\\vec B$ points tangential to the radius\n",
    "of our disk, and always in the counter-clockwise direction.  Since $\\vec L=\\vec r\\times\\vec p$, we have\n",
    "a non-zero angular momentum.  You can think of it as virtual photons swirling around the $\\hat z$ axis.\n",
    "\n",
    "Of course, once the magnetic field breaks down, that angular momentum had to go somewhere.  It goes into the\n",
    "motion of the charges as an induced current.  Note that, it order to have set this system in its initial state,\n",
    "we would have had to exert a torque on the charges to keep them stationary as we built up the magnetic field.\n",
    "This torque was us feeding angular momentum into the system, which was being stored in the electromagnetic\n",
    "field for release later."
   ]
  },
  {
   "cell_type": "markdown",
   "metadata": {},
   "source": [
    "## 7. Dipole Spin-Down\n",
    "\n",
    "Suppose I have an electic dipole $\\vec d$ consisting of two charges $q$ and $-q$, each of mass $M$, separated by a vector $\\vec r$, and this dipole is spinning around its center of mass with an angular frequency $\\omega$ in a direction orthogonal to the dipole.\n",
    "\n",
    "How does the slow-down time (say, the \"half-life\" or the time it takes the rotor to lose half its rotational energy) scale with $\\omega$ and $q$?"
   ]
  },
  {
   "cell_type": "code",
   "execution_count": 3,
   "metadata": {},
   "outputs": [],
   "source": [
    "# Calculations here"
   ]
  },
  {
   "cell_type": "markdown",
   "metadata": {},
   "source": [
    "There are a few ways to get at the answer. The first is to note that the energy of a spinning rotor is $E=\\frac12 I\\omega^2$ (you can multiply the $r$ in the moment of intertia $I$ into the $\\omega$ to get a velocity, if that is more intuitive).  We end up with $E\\propto\\omega^2$\n",
    "\n",
    "Energy divided by power radiated is time, and the power radiated is going to come from accelerating charges to move along a circle.\n",
    "\n",
    "As a general rule, the acceleration required for circular motion is $a=v^2/r$. In our equations, $\\omega\\propto v$ and in Larmor's formula $P\\propto q^2 a^2$, so $P\\propto q^2\\omega^4$.\n",
    "\n",
    "Thus, the \"lifetime\" of this spinning rotor scales as\n",
    "\\begin{equation}\n",
    "t\\sim \\frac{E}{P} \\propto \\frac{1}{q^2\\omega^2}.\n",
    "\\end{equation}\n",
    "\n",
    "Now you might object: how can the lifetime of this spinning rotor decrease with $\\omega$ if, as it loses energy, $\\omega$ decreases to make it radiate less slowly? The answer is, you're right. We aren't really estimating the lifetime of the rotor spinning because the rotor is just on a decay curve and will spin slightly forever (well, classically, at least). What we really mean is the lifetime of the rotor spinning at approximately this energy."
   ]
  }
 ],
 "metadata": {
  "kernelspec": {
   "display_name": "Python 3",
   "language": "python",
   "name": "python3"
  },
  "language_info": {
   "codemirror_mode": {
    "name": "ipython",
    "version": 3
   },
   "file_extension": ".py",
   "mimetype": "text/x-python",
   "name": "python",
   "nbconvert_exporter": "python",
   "pygments_lexer": "ipython3",
   "version": "3.8.10"
  }
 },
 "nbformat": 4,
 "nbformat_minor": 4
}
