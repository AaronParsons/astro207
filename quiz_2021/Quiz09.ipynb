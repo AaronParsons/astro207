{
 "cells": [
  {
   "cell_type": "markdown",
   "metadata": {},
   "source": [
    "# C207 Activity Sheet 9"
   ]
  },
  {
   "cell_type": "markdown",
   "metadata": {},
   "source": [
    "## 1. Please write the formula that relates the acceleration of a charge to the  power radiated."
   ]
  },
  {
   "cell_type": "markdown",
   "metadata": {},
   "source": [
    "Write a response here"
   ]
  },
  {
   "cell_type": "markdown",
   "metadata": {},
   "source": [
    "## 2. What quantity is typically used to quantify the strength of an electronic transition?"
   ]
  },
  {
   "cell_type": "markdown",
   "metadata": {},
   "source": [
    "Write a response here"
   ]
  },
  {
   "cell_type": "markdown",
   "metadata": {},
   "source": [
    "## 3. How does line strength scale with the energy (or frequency) of the transition in question?"
   ]
  },
  {
   "cell_type": "markdown",
   "metadata": {},
   "source": [
    "Write a response here"
   ]
  },
  {
   "cell_type": "markdown",
   "metadata": {},
   "source": [
    "## 4.  Which would you expect to have a stronger rotational transition: CO or O$_2$? Assume that the difference in rotational energy arising from the different moments of inertia for the two molecules is negligible."
   ]
  },
  {
   "cell_type": "markdown",
   "metadata": {},
   "source": [
    "Write a response here"
   ]
  },
  {
   "cell_type": "markdown",
   "metadata": {},
   "source": [
    "## 5. Carbon Monoxide in Molecular Clouds (Part 1)\n",
    "Estimate $A_{10}$ for the J=1 to 0 transition of CO.\n",
    "\n",
    "J is the quantum number denoting the angular momentum (and thus, the rotational energy $E=\\frac{\\hbar^2}{2I}J(J+1)$) for molecules, similar to how $n$ functions for\n",
    "electronic transitions in hydrogen.\n",
    "\n",
    "Be forewarned that the electric dipole of CO is about a factor of 40 smaller than what you might guess \n",
    "from assuming $d=e\\cdot 2a_0$ (one unit of charge separated by two Bohr radii between the C and the O).\n",
    "\n",
    "It quick way of computing the moment of inertia for a 2-atom molecule around its center of mass is with the \n",
    "reduced mass, $\\mu$, given by:\n",
    "\\begin{equation}\n",
    "I=m_1r_1^2 + m_2r_2^2=\\mu r\\equiv\\frac{m_1m_2}{m_1+m_2} r^2\n",
    "\\end{equation}\n",
    "where $r=r_1+r_2$ is the full distance between the two molecules."
   ]
  },
  {
   "cell_type": "code",
   "execution_count": 1,
   "metadata": {},
   "outputs": [],
   "source": [
    "# Calculations here\n",
    "hbar = 1e-27 # erg s, Planck constant / 2pi\n"
   ]
  },
  {
   "cell_type": "markdown",
   "metadata": {},
   "source": [
    "Write a response here"
   ]
  }
 ],
 "metadata": {
  "kernelspec": {
   "display_name": "Python 3",
   "language": "python",
   "name": "python3"
  },
  "language_info": {
   "codemirror_mode": {
    "name": "ipython",
    "version": 3
   },
   "file_extension": ".py",
   "mimetype": "text/x-python",
   "name": "python",
   "nbconvert_exporter": "python",
   "pygments_lexer": "ipython3",
   "version": "3.8.10"
  }
 },
 "nbformat": 4,
 "nbformat_minor": 4
}
