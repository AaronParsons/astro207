{
 "cells": [
  {
   "cell_type": "markdown",
   "metadata": {},
   "source": [
    "# C207 Activity Sheet 12"
   ]
  },
  {
   "cell_type": "markdown",
   "metadata": {},
   "source": [
    "# CO in Molecular Clouds, Revisited\n",
    "\n",
    "Previously, we've been looking at a cloud of H$_2$ with a CO/H$_2$ ratio of 6e-5 and have established\n",
    "that the $J=1\\rightarrow0$ transition ($\\nu=115$ GHz) is important for cooling.  \n",
    "\n",
    "## Problem 1\n",
    "For an optically thin\n",
    "cloud at 10 K without an externally imposed radiation field, what number density of H$_2$ is required\n",
    "for the 115 GHz line of CO to be collisionally dominated?  Given that typical clouds have $n\\sim10$ to 100\n",
    "cm$^{-3}$, would we overestimate or underestimate the cooling time of an H$_2$ cloud by assuming that\n",
    "$\\frac{n_{J=1}}{n_{J=0}}=\\frac{g_1}{g_0}e^{-E/kT}$ for CO."
   ]
  },
  {
   "cell_type": "code",
   "execution_count": 1,
   "metadata": {},
   "outputs": [],
   "source": [
    "# Calculations here"
   ]
  },
  {
   "cell_type": "markdown",
   "metadata": {},
   "source": [
    "__Answer:__\n",
    "Write a response here"
   ]
  },
  {
   "cell_type": "markdown",
   "metadata": {},
   "source": [
    "## Problem 2\n",
    "For the same optically thin cloud, estimate how CO luminosity at 115 GHz scales with $n_{H_2}$ above and\n",
    "below the critical threshold you found above.  Assume the total number of molecules is conserved."
   ]
  },
  {
   "cell_type": "code",
   "execution_count": 2,
   "metadata": {},
   "outputs": [],
   "source": [
    "# Calculations here"
   ]
  },
  {
   "cell_type": "markdown",
   "metadata": {},
   "source": [
    "__Answer:__\n",
    "Write a response here"
   ]
  },
  {
   "cell_type": "markdown",
   "metadata": {},
   "source": [
    "## Problem 3\n",
    "For a fixed number density, how does CO luminosity at 115 GHz depend on the kinetic temperature of the cloud?\n",
    "Consider cases both above and below the critical number density threshold."
   ]
  },
  {
   "cell_type": "code",
   "execution_count": 3,
   "metadata": {},
   "outputs": [],
   "source": [
    "# Calculations here"
   ]
  },
  {
   "cell_type": "markdown",
   "metadata": {},
   "source": [
    "__Answer:__\n",
    "Write a response here"
   ]
  }
 ],
 "metadata": {
  "kernelspec": {
   "display_name": "Python 3",
   "language": "python",
   "name": "python3"
  },
  "language_info": {
   "codemirror_mode": {
    "name": "ipython",
    "version": 3
   },
   "file_extension": ".py",
   "mimetype": "text/x-python",
   "name": "python",
   "nbconvert_exporter": "python",
   "pygments_lexer": "ipython3",
   "version": "3.8.10"
  }
 },
 "nbformat": 4,
 "nbformat_minor": 4
}
