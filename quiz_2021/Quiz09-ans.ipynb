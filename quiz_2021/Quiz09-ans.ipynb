{
 "cells": [
  {
   "cell_type": "markdown",
   "metadata": {},
   "source": [
    "# C207 Activity Sheet 9 Solutions"
   ]
  },
  {
   "cell_type": "markdown",
   "metadata": {},
   "source": [
    "## 1. Please write the formula that relates the acceleration of a charge to the  power radiated."
   ]
  },
  {
   "cell_type": "markdown",
   "metadata": {},
   "source": [
    "The Larmor Formula reads:\n",
    "\\begin{equation}\n",
    "P=\\frac23\\frac{e^2a^2}{c^3}\n",
    "\\end{equation}"
   ]
  },
  {
   "cell_type": "markdown",
   "metadata": {},
   "source": [
    "## 2. What quantity is typically used to quantify the strength of an electronic transition?"
   ]
  },
  {
   "cell_type": "markdown",
   "metadata": {},
   "source": [
    "The Einstein A coefficient, which is related to the oscillator strength $f$ by\n",
    "\\begin{equation}\n",
    "A_{21}=\\frac{8\\pi^2\\nu^2e^2}{m_ec^3}\\frac{g_1}{g_2}f_{12}.\n",
    "\\end{equation}"
   ]
  },
  {
   "cell_type": "markdown",
   "metadata": {},
   "source": [
    "## 3. How does line strength scale with the energy (or frequency) of the transition in question?"
   ]
  },
  {
   "cell_type": "markdown",
   "metadata": {},
   "source": [
    "$A_{21}$ is effectively an inverse lifetime, with $t^{-1}\\sim P/E$.  The power\n",
    "radiated has $\\nu^4$ dependnece, because the acceleration in the Larmor formula\n",
    "goes as the square of the characteristic frequency of, e.g., a spring.  Energy has\n",
    "a $\\nu$ dependence, so that leaves $A_{21}\\propto\\nu^3$."
   ]
  },
  {
   "cell_type": "markdown",
   "metadata": {},
   "source": [
    "## 4.  Which would you expect to have a stronger rotational transition: CO or O$_2$? Assume that the difference in rotational energy arising from the different moments of inertia for the two molecules is negligible."
   ]
  },
  {
   "cell_type": "markdown",
   "metadata": {},
   "source": [
    "CO should have a stronger transition because it has a dipole moment, as opposed to O$_2$\n",
    "which, as a symmetric molecule, has a quadrupole moment."
   ]
  },
  {
   "cell_type": "markdown",
   "metadata": {},
   "source": [
    "## 5. Carbon Monoxide in Molecular Clouds (Part 1)\n",
    "Estimate $A_{10}$ for the J=1 to 0 transition of CO.\n",
    "\n",
    "J is the quantum number denoting the angular momentum (and thus, the rotational energy $E=\\frac{\\hbar^2}{2I}J(J+1)$) for molecules, similar to how $n$ functions for\n",
    "electronic transitions in hydrogen.\n",
    "\n",
    "Be forewarned that the electric dipole of CO is about a factor of 40 smaller than what you might guess \n",
    "from assuming $d=e\\cdot 2a_0$ (one unit of charge separated by two Bohr radii between the C and the O).\n",
    "\n",
    "It quick way of computing the moment of inertia for a 2-atom molecule around its center of mass is with the \n",
    "reduced mass, $\\mu$, given by:\n",
    "\\begin{equation}\n",
    "I=m_1r_1 + m_2r_2=\\mu r\\equiv\\frac{m_1m_2}{m_1+m_2} r\n",
    "\\end{equation}\n",
    "where $r=r_1+r_2$ is the full distance between the two molecules."
   ]
  },
  {
   "cell_type": "markdown",
   "metadata": {},
   "source": [
    "__Answer:__ First, let's go ahead and estimate the dipole moment of CO, since we are warned we'll\n",
    "get it wrong.  High school chemistry told us that O likes electrons and will probably\n",
    "\"steal\" one from C.  Thus, we have a charge imbalance of $e$ of the separation length\n",
    "between the atoms, which we might estimate as being about $2a_0$, twice the Bohr radius.\n",
    "This gives us a dipole moment of $d\\sim 2ea_0\\sim 4\\cdot10^{-18}$ esu cm.  A {\\it debye} is\n",
    "a unit of dipole, with a value of $1\\cdot10^{-18}$ esu cm.  Our estimate of $d_{\\rm CO}\\sim 4$\n",
    "debye turns out to be about a factor of 40 larger than the actual value of \n",
    "$d_{\\rm CO}\\sim 0.1$ debye.\n",
    "\n",
    "Now that we have the dipole moment, we need to estimate the frequency of the J=1 to 0 transition\n",
    "for CO.  We can do this by setting the rotation angular momentum of the CO molecule\n",
    "to $\\hbar$.  Since $L=I\\omega=\\hbar$, we have that $\\omega=\\hbar/I$. We can estimate\n",
    "I using the fact that C has 12 AMU and O has 16, separated by $\\sim 2a_0$.  Using\n",
    "the reduced mass $\\mu=m_1m_2/(m_1+m_2)\\approx1\\cdot10^{-23}$ g, we have\n",
    "$I=\\mu 4a_0^2\\sim8\\cdot10^{-40}$ g/cm$^2$.  This gives us a value for $\\omega$ of $1\\cdot10^{12}$ Hz.\n",
    "(Btw, always beware of the difference between $\\omega$ and $\\nu$; factors of $2\\pi$ are\n",
    "almost an order of magnitude).\n",
    "\n",
    "Finally, we derived that $A\\propto d^2\\omega^3$.  We can scale our $A_{10}$ from\n",
    "the Ly$\\alpha$ transition, which has a value of $A=5\\cdot10^{8}$ cm$^{-1}$, a wavelength\n",
    "of 121 nm (which corresponds to $\\omega\\sim2\\cdot10^{16}$), and a dipole moment of $ea_0$.\n",
    "So that gives us\n",
    "\\begin{equation}\n",
    "A_{10}\\sim 5\\cdot10^8 \\left(\\frac{0.1~{\\rm debye}}{2~{\\rm debye}}\\right)^2\\left(\\frac{1\\cdot10^{12}~{\\rm Hz}}{2\\cdot10^{16}~{\\rm Hz}}\\right)^3\\sim 2\\cdot10^{-7}~{\\rm s}^{-1}\n",
    "\\end{equation}\n",
    "\n"
   ]
  }
 ],
 "metadata": {
  "kernelspec": {
   "display_name": "Python 3",
   "language": "python",
   "name": "python3"
  },
  "language_info": {
   "codemirror_mode": {
    "name": "ipython",
    "version": 3
   },
   "file_extension": ".py",
   "mimetype": "text/x-python",
   "name": "python",
   "nbconvert_exporter": "python",
   "pygments_lexer": "ipython3",
   "version": "3.8.10"
  }
 },
 "nbformat": 4,
 "nbformat_minor": 4
}
