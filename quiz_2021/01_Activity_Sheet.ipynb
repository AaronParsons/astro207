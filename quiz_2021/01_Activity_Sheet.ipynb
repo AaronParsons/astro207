{
 "cells": [
  {
   "cell_type": "markdown",
   "metadata": {},
   "source": [
    "# C207 Activity Sheet 1"
   ]
  },
  {
   "cell_type": "markdown",
   "metadata": {},
   "source": [
    "## 1. What are the units of specific intensity, $I_\\nu$?"
   ]
  },
  {
   "cell_type": "code",
   "execution_count": 1,
   "metadata": {},
   "outputs": [],
   "source": [
    "# Calculations (these cells are interpreted as python, if you want to use it as a calculator)"
   ]
  },
  {
   "cell_type": "markdown",
   "metadata": {},
   "source": [
    "### Musings (these cells are interpreted as markup, for writing text):\n",
    "\n",
    "Fill in your thoughts here."
   ]
  },
  {
   "cell_type": "markdown",
   "metadata": {},
   "source": [
    "## 2. What is the specific intensity of the Sun in visible wavelengths? How about a 100W incandescent light bulb?"
   ]
  },
  {
   "cell_type": "code",
   "execution_count": 2,
   "metadata": {},
   "outputs": [],
   "source": [
    "F_sun = 1366 # W / m^2, Solar flux at earth's surface\n",
    "P_bulb = 100 # W\n",
    "# Calculations"
   ]
  },
  {
   "cell_type": "markdown",
   "metadata": {},
   "source": [
    "### Musings:\n",
    "\n",
    "Fill in your thoughts here."
   ]
  },
  {
   "cell_type": "markdown",
   "metadata": {},
   "source": [
    "## 3. Achieving some resolution\n",
    "\n",
    "Suppose two telecopes observe a background of uniform intensity $I_\\nu$ (for example, the cosmic microwave background is, to a part in $10^3$, a uniform 2.725 K on the sky). Assume the beams of both \n",
    "telescopes are completely contained within the field (the source is resolved).\n",
    "If one telescope has twice the diameter of the other, how do their output powers compare, all other things being equal? (Hint: the angular width of a telescope's beam is inversely proportional to diameter).\n",
    "\n",
    "If you are curious, radio astronomers use a temperature to describe specific intensity by approximating the Planck (thermal) blackbody function $B_\\nu$---which has units of specific intensity---in the $h\\nu\\ll kT$ \"Rayleigh-Jeans\" limit as\n",
    "\\begin{equation}\n",
    "B_\\nu=\\frac{2h\\nu^3}{c^2}\\frac{1}{e^{h\\nu/kT} -1}\\approx \\frac{2k T}{\\lambda^2},\n",
    "\\end{equation}\n",
    "using $e^x\\approx1+x$ for $x\\equiv h\\nu/kT\\ll 1$. They then do something funny and describe *any* specific intensity $I_\\nu$ as\n",
    "\\begin{equation}\n",
    "I_\\nu\\equiv \\frac{2k T_B}{\\lambda^2}\n",
    "\\end{equation}\n",
    "where this is taken to be the definition of $T_B$, the brightness temperature, even if the specific intensity it is being used to describe is *not* a Planck function (in which case, $T_B$ would be frequency-dependent)."
   ]
  },
  {
   "cell_type": "code",
   "execution_count": 3,
   "metadata": {},
   "outputs": [],
   "source": [
    "# Calculations area"
   ]
  },
  {
   "cell_type": "markdown",
   "metadata": {},
   "source": [
    "### Musings:\n",
    "\n",
    "Fill in your thoughts here."
   ]
  },
  {
   "cell_type": "markdown",
   "metadata": {},
   "source": [
    "## 4. Lightsails have been proposed as a method for accelerating spacecraft out of our solar system. They are essentially giant mirrors that reflect sunlight to harvest momentum. How big of a sail would be required to prevent a 1000 kg spacecraft from falling into the Sun?"
   ]
  },
  {
   "cell_type": "code",
   "execution_count": 4,
   "metadata": {},
   "outputs": [],
   "source": [
    "# Calculations"
   ]
  },
  {
   "cell_type": "markdown",
   "metadata": {},
   "source": [
    "### Musings:\n",
    "\n",
    "Fill in your thoughts here."
   ]
  }
 ],
 "metadata": {
  "kernelspec": {
   "display_name": "Python 3",
   "language": "python",
   "name": "python3"
  },
  "language_info": {
   "codemirror_mode": {
    "name": "ipython",
    "version": 3
   },
   "file_extension": ".py",
   "mimetype": "text/x-python",
   "name": "python",
   "nbconvert_exporter": "python",
   "pygments_lexer": "ipython3",
   "version": "3.8.10"
  }
 },
 "nbformat": 4,
 "nbformat_minor": 4
}
