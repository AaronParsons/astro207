{
 "cells": [
  {
   "cell_type": "markdown",
   "metadata": {},
   "source": [
    "# C207 Activity Sheet 1"
   ]
  },
  {
   "cell_type": "markdown",
   "metadata": {},
   "source": [
    "## 1. What are the units of specific intensity, $I_\\nu$?"
   ]
  },
  {
   "cell_type": "markdown",
   "metadata": {},
   "source": [
    "### Answer:\n",
    "$$\\left[I_\\nu\\right] = \\frac{\\rm erg}{\\rm s\\cdot cm^2\\cdot Hz\\cdot sr}$$"
   ]
  },
  {
   "cell_type": "markdown",
   "metadata": {},
   "source": [
    "## 2. What is the specific intensity of the Sun in visible wavelengths? How about a 100W incandescent light bulb?"
   ]
  },
  {
   "cell_type": "code",
   "execution_count": 1,
   "metadata": {},
   "outputs": [
    {
     "name": "stdout",
     "output_type": "stream",
     "text": [
      "Specific intensity of Sun [erg/s/cm^2/Hz/sr]: 4.567684196986613e-05\n",
      "Specific intensity of bulb [erg/s/cm^2/Hz/sr]: 3.166286988823056e-09\n"
     ]
    }
   ],
   "source": [
    "import numpy as np\n",
    "\n",
    "F_sun = 1366 # W / m^2, Solar flux at earth's surface\n",
    "P_bulb = 100 # W\n",
    "\n",
    "F_sun *= 1e-4 * 1e7 # ergs / s / cm^2\n",
    "P_bulb *= 1e7 # ergs / s\n",
    "\n",
    "# Calculations\n",
    "c = 3e10 # cm / s, speed of light\n",
    "wavelen_blue = 300e-7 # cm, wavelength of blue light\n",
    "wavelen_red = 600e-7 # cm, wavelength of red light\n",
    "\n",
    "theta_sun = 0.25 * np.pi/180 # radians, angular radius of Sun\n",
    "B_visible = c / wavelen_blue - c / wavelen_red\n",
    "I_sun = F_sun / B_visible / (np.pi * theta_sun**2)\n",
    "\n",
    "r_bulb = 2 # cm, radius of lightbulb\n",
    "I_bulb = P_bulb / (4*np.pi*r_bulb**2) / B_visible / (4*np.pi)\n",
    "print('Specific intensity of Sun [erg/s/cm^2/Hz/sr]:', I_sun)\n",
    "print('Specific intensity of bulb [erg/s/cm^2/Hz/sr]:', I_bulb)"
   ]
  },
  {
   "cell_type": "markdown",
   "metadata": {},
   "source": [
    "## 3. Achieving some resolution\n",
    "\n",
    "Suppose two telecopes observe a background of uniform intensity $I_\\nu$ (for example, the cosmic microwave background is, to a part in $10^3$, a uniform 2.725 K on the sky). Assume the beams of both \n",
    "telescopes are completely contained within the field (the source is resolved).\n",
    "If one telescope has twice the diameter of the other, how do their output powers compare, all other things being equal? (Hint: the angular width of a telescope's beam is inversely proportional to diameter).\n",
    "\n",
    "If you are curious, radio astronomers use a temperature to describe specific intensity by approximating the Planck (thermal) blackbody function $B_\\nu$---which has units of specific intensity---in the $h\\nu\\ll kT$ \"Rayleigh-Jeans\" limit as\n",
    "\\begin{equation}\n",
    "B_\\nu=\\frac{2h\\nu^3}{c^2}\\frac{1}{e^{h\\nu/kT} -1}\\approx \\frac{2k T}{\\lambda^2},\n",
    "\\end{equation}\n",
    "using $e^x\\approx1+x$ for $x\\equiv h\\nu/kT\\ll 1$. They then do something funny and describe *any* specific intensity $I_\\nu$ as\n",
    "\\begin{equation}\n",
    "I_\\nu\\equiv \\frac{2k T_B}{\\lambda^2}\n",
    "\\end{equation}\n",
    "where this is taken to be the definition of $T_B$, the brightness temperature, even if the specific intensity it is being used to describe is *not* a Planck function (in which case, $T_B$ would be frequency-dependent)."
   ]
  },
  {
   "cell_type": "markdown",
   "metadata": {},
   "source": [
    "### Answer:\n",
    "Because beam width is inversely proportional to diameter, the solid angle of a telescope's beam is\n",
    "inversely proportional to collecting area:\n",
    "$$\\Omega_{\\rm beam}\\propto \\frac{1}{A}$$\n",
    "\n",
    "To get power from specific intensity, a telescope collects a signal over area $A$, bandwidth $B$, and solid beam angle $\\Omega$, as\n",
    "$$P = I_\\nu \\cdot A \\cdot B \\cdot \\Omega$$,\n",
    "but since $\\Omega\\propto 1/A$, power is unchanged for the two telescopes."
   ]
  },
  {
   "cell_type": "markdown",
   "metadata": {},
   "source": [
    "## 4. Lightsails have been proposed as a method for accelerating spacecraft out of our solar system. They are essentially giant mirrors that reflect sunlight to harvest momentum. How big of a sail would be required to prevent a 1000 kg spacecraft from falling into the Sun?"
   ]
  },
  {
   "cell_type": "code",
   "execution_count": 2,
   "metadata": {},
   "outputs": [
    {
     "name": "stdout",
     "output_type": "stream",
     "text": [
      "Sail area [cm^2]: 5856515.3733528545\n"
     ]
    }
   ],
   "source": [
    "m_ship = 1000 # kg, spacecraft mass\n",
    "\n",
    "# Calculations\n",
    "F_sun = 1366 * 1e-4 * 1e7 # erg/s/cm^2, solar flux at Earth\n",
    "M_sun = 2e33 # g, solar mass\n",
    "AU = 1.5e13 # cm, distance to sun\n",
    "G = 6e-8 # cgs, gravitational constant\n",
    "\n",
    "F_grav = G * M_sun * m_ship / AU**2\n",
    "momentum_flux = F_sun / c # energy/velocity = momentum for photons\n",
    "area = F_grav / (2*momentum_flux) # the doubling comes from reflecting the photons (instead of absorbing)\n",
    "print('Sail area [cm^2]:', area)"
   ]
  },
  {
   "cell_type": "markdown",
   "metadata": {},
   "source": [
    "### Answer:\n",
    "\n",
    "Photons carry a momentum equal to $E/c$. Thus, an energy flux can be converted into a momentum flux\n",
    "(or more simply, a pressure) by dividing by $c$.\n",
    "Thus:\n",
    "$$A_{\\rm sail} \\frac{F_{\\rm photons}}{c} = F_{\\rm gravity}.$$\n",
    "\n",
    "Above, we solve this equation at the Earth, but because both $F_{\\rm photons}$ and $F_{\\rm gravity}$ scale\n",
    "as $1/r^2$, this result does not depend on distance from the Sun.\n"
   ]
  }
 ],
 "metadata": {
  "kernelspec": {
   "display_name": "Python 3",
   "language": "python",
   "name": "python3"
  },
  "language_info": {
   "codemirror_mode": {
    "name": "ipython",
    "version": 3
   },
   "file_extension": ".py",
   "mimetype": "text/x-python",
   "name": "python",
   "nbconvert_exporter": "python",
   "pygments_lexer": "ipython3",
   "version": "3.8.10"
  }
 },
 "nbformat": 4,
 "nbformat_minor": 4
}
