{
 "cells": [
  {
   "cell_type": "markdown",
   "metadata": {},
   "source": [
    "# C207 Activity Sheet 12"
   ]
  },
  {
   "cell_type": "markdown",
   "metadata": {},
   "source": [
    "# CO in Molecular Clouds, Revisited\n",
    "\n",
    "Previously, we've been looking at a cloud of H$_2$ with a CO/H$_2$ ratio of 6e-5 and have established\n",
    "that the $J=1\\rightarrow0$ transition ($\\nu=115$ GHz) is important for cooling.  \n",
    "\n",
    "## Problem 1\n",
    "For an optically thin\n",
    "cloud at 10 K without an externally imposed radiation field, what number density of H$_2$ is required\n",
    "for the 115 GHz line of CO to be collisionally dominated?  Given that typical clouds have $n\\sim10$ to 100\n",
    "cm$^{-3}$, would we overestimate or underestimate the cooling time of an H$_2$ cloud by assuming that\n",
    "$\\frac{n_{J=1}}{n_{J=0}}=\\frac{g_1}{g_0}e^{-E/kT}$ for CO."
   ]
  },
  {
   "cell_type": "markdown",
   "metadata": {},
   "source": [
    "__Answer:__\n",
    "Optically thin without external radiation indicates that we don't need to consider radiative transitions\n",
    "other than $A_{10}$.  We've worked this out before, but\n",
    "\\begin{align}\n",
    "A &\\propto d^2\\nu^3\\\\\n",
    "A_{10,CO} &\\sim A_{\\rm Ly\\alpha} \\left(\\frac{0.1{\\rm e}-18~{\\rm cm\\cdot esu}}{ea_0}\\right)^2\n",
    "        \\left(\\frac{115~{\\rm GHz}}{2.5{\\rm e}15~{\\rm Hz}}\\right)^3\n",
    "\\end{align}\n",
    "gives us a value of $A_{10}\\sim8{\\rm e}-8$ s$^{-1}$.  We need for $n_{H_2}\\langle\\sigma_{21}v\\rangle \\gg A_{10}$ \n",
    "to be collisionally dominated.  Roughly, $\\sigma_{21}\\sim8\\pi a_0^2$ (assuming each atom has a radius of $\\sim a_0$),\n",
    "and $v\\sim\\sqrt{\\frac{2kT}{m_{H_2}}}$.  Numerically, this implies that\n",
    "\\begin{equation}\n",
    "n_{H_2}\\gg A_{10}\\sqrt{\\frac{m_p}{kT}}\\frac{1}{8\\pi a_0^2},\n",
    "\\end{equation}\n",
    "Which comes out to $n_{H_2}\\gg4000$ cm$^{-3}$, which is much denser than typical clouds are.  Below the \n",
    "critical density, $A_{10}$ is rapidly depopulating the upper energy state, so it is not set thermally, and\n",
    "that means we'd be overpredicting the luminosity of CO at 115 GHz by assuming the kinetic temperature is\n",
    "setting the levels.  This would lead to us under-predicting the cooling time."
   ]
  },
  {
   "cell_type": "markdown",
   "metadata": {},
   "source": [
    "## Problem 2\n",
    "For the same optically thin cloud, plot how CO luminosity at 115 GHz varies with $n_{H_2}$ above and\n",
    "below the critical threshold you found above.  Assume the total number of molecules is conserved."
   ]
  },
  {
   "cell_type": "markdown",
   "metadata": {},
   "source": [
    "__Answer:__\n",
    "Below the critical density, each collisional excitation produces a photon that escapes, so increasing the number\n",
    "density linearly increases the photon production per CO molecule.  \n",
    "For a fixed number of molecules, luminosity scales linearly with the number density \n",
    "below the critical threshold: $L\\propto n$.  \n",
    "\n",
    "Above the threshold, adding collisions\n",
    "doesn't change the distribution of states (de-excitations balance excitations), so \n",
    "$L\\propto n^0$."
   ]
  },
  {
   "cell_type": "markdown",
   "metadata": {},
   "source": [
    "## Problem 3\n",
    "For a fixed number density, how does CO luminosity at 115 GHz depend on the kinetic temperature of the cloud?\n",
    "Consider cases both above and below the critical number density threshold."
   ]
  },
  {
   "cell_type": "markdown",
   "metadata": {},
   "source": [
    "__Answer:__\n",
    "Below the critical density, temperature increases the velocity of molecules, which increases collision rates, and\n",
    "as we described above, that increases luminosity.  Thus, $L\\propto\\sqrt{T}$.  Above the critical\n",
    "density, increased collisions don't do anything, so $L\\propto T^0$. Note that both of these statements implicitly make use of the fact that $h\\nu/k=(6{\\rm e-}27)(115{\\rm e}9)/(1{e-}16)\\sim 6 {\\rm K}$ is less significantly less than the kinetic temperature of 10 K, so that the Boltzmann distribution is not changing appreciably."
   ]
  }
 ],
 "metadata": {
  "kernelspec": {
   "display_name": "Python 3",
   "language": "python",
   "name": "python3"
  },
  "language_info": {
   "codemirror_mode": {
    "name": "ipython",
    "version": 3
   },
   "file_extension": ".py",
   "mimetype": "text/x-python",
   "name": "python",
   "nbconvert_exporter": "python",
   "pygments_lexer": "ipython3",
   "version": "3.8.2"
  }
 },
 "nbformat": 4,
 "nbformat_minor": 4
}
