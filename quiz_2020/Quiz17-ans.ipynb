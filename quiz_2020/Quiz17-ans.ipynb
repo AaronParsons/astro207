{
 "cells": [
  {
   "cell_type": "markdown",
   "metadata": {},
   "source": [
    "# C207 Activity Sheet 17"
   ]
  },
  {
   "cell_type": "markdown",
   "metadata": {},
   "source": [
    "# Problem 1. What is synchrotron self-absorption, and when is it important?"
   ]
  },
  {
   "cell_type": "markdown",
   "metadata": {},
   "source": [
    "__Answer:__\n",
    "Synchrotron self-absorption is what happens to a synchrotron spectrum when it starts to become\n",
    "optically thick, when it absorbs some of the synchrotron photons it produces."
   ]
  },
  {
   "cell_type": "markdown",
   "metadata": {},
   "source": [
    "# Problem 2. What is the spectral dependence of synchrotron emission in the self-absorbed regime?"
   ]
  },
  {
   "cell_type": "markdown",
   "metadata": {},
   "source": [
    "__Answer:__\n",
    "\\begin{equation}\n",
    "I_n\\propto \\nu^\\frac52 B^{-\\frac12}\n",
    "\\end{equation}"
   ]
  },
  {
   "cell_type": "markdown",
   "metadata": {},
   "source": [
    "# Problem 3. Is self-absorbed synchrotron emission thermal?"
   ]
  },
  {
   "cell_type": "markdown",
   "metadata": {},
   "source": [
    "__Answer:__\n",
    "No.  We used a hypothetical blackbody to argue about the upper bound on emission as a function of $\\nu$, but\n",
    "this was a thought experiment.  Synchrotron emission is patently non-thermal."
   ]
  },
  {
   "cell_type": "markdown",
   "metadata": {},
   "source": [
    "# Problem 4. How does self-Compton scattering affect a synchrotron spectrum?  Draw a picture."
   ]
  },
  {
   "cell_type": "markdown",
   "metadata": {},
   "source": [
    "__Answer:__\n",
    "It creates a copy of the spectrum at higher frequencies with the same spectral slope, but with wider bounds\n",
    "because of the pairing of different photon energies (which relates to $\\gamma$) with different electrons\n",
    "to scatter off of (which have another, different $\\gamma$)."
   ]
  },
  {
   "cell_type": "markdown",
   "metadata": {},
   "source": [
    "# Problem 5. What is the criterion for a Compton catastrophe?"
   ]
  },
  {
   "cell_type": "markdown",
   "metadata": {},
   "source": [
    "__Answer:__\n",
    "If $f\\equiv\\gamma^2\\tau_{SSC}>1$, then the scattered luminosity diverges in the optically thick case.  This can\n",
    "result in brightness temperatures of order $kT_b\\sim \\gamma mc^2$, which can be very bright."
   ]
  },
  {
   "cell_type": "markdown",
   "metadata": {},
   "source": [
    "# Problem 6. Catastrophe?\n",
    "\n",
    "<img src=\"./sync_self_compton.png\" width=\"50%\" />\n",
    "\n",
    "The figure above shows synchrotron and synchrotron self-Compton \n",
    "spectra of Mkn 501 (Konopelko et al. 2003, ApJ, 597, 851).  The\n",
    "ordinate $\\nu F_\\nu$ on this plot is proportional to flux density per logarithmic\n",
    "frequency range, so the relative heights of the two peaks reflect their\n",
    "relative contributions to $U_{\\rm rad}$.\n",
    "What is the implied maximum $\\gamma$ of the emitting electrons?\n",
    "How close is this spectrum to a Compton catastrophe?"
   ]
  },
  {
   "cell_type": "markdown",
   "metadata": {},
   "source": [
    "__Answer:__\n",
    "We can read off $\\gamma_{max}$ by looking at the locations of the high-$\\nu$ peaks in the original and up-scattered spectra.\n",
    "We know that we can only make these most energetic photons by scattering a maximum energy photon off a maximum energy\n",
    "electron.  This gives us $\\gamma_{max}^2\\approx e^{27-19}$, implying that $\\gamma_{max}\\approx e^4\\approx55$.\n",
    "\n",
    "To judge if we are close to a catastrophe, we need to evaluate $L_{IC}/L_{sync}=\\gamma^2\\tau=U_{ph}/U_B$.  \n",
    "We are coached in the caption\n",
    "that $\\nu F_\\nu$ is a measure of flux density per logrithmic interval, which we can take to be the total\n",
    "luminosity. By comparing the peaks, we can see that $L_{IC}$ is lower than $L_{sync}$ by about a factor of $1/e$, which\n",
    "I take to mean that this was pretty close to a catastrophe!"
   ]
  }
 ],
 "metadata": {
  "kernelspec": {
   "display_name": "Python 3",
   "language": "python",
   "name": "python3"
  },
  "language_info": {
   "codemirror_mode": {
    "name": "ipython",
    "version": 3
   },
   "file_extension": ".py",
   "mimetype": "text/x-python",
   "name": "python",
   "nbconvert_exporter": "python",
   "pygments_lexer": "ipython3",
   "version": "3.8.5"
  }
 },
 "nbformat": 4,
 "nbformat_minor": 4
}
