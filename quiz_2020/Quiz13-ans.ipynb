{
 "cells": [
  {
   "cell_type": "markdown",
   "metadata": {},
   "source": [
    "# C207 Activity Sheet 13"
   ]
  },
  {
   "cell_type": "markdown",
   "metadata": {},
   "source": [
    "# HeII Reionization\n",
    "\n",
    "After reionization (redshift $z\\sim6$, where $(1+z)$ measures the factor by which all spatial dimensions\n",
    "was smaller in the Universe then compared to today) essentially all hydrogen is ionized and\n",
    "heated to around $T\\sim15,000K$.  In the process,\n",
    "all intergalactic helium left over from nucleosynthesis is also singly ionized.  \n",
    "He$^+$ remains in the IGM ionized until about $z\\sim3$, when \n",
    "it is finally completely stripped of electrons. Today, we find there is about 1 H$^+$ atom\n",
    "per cubic meter in intergalactic space.\n",
    "\n",
    "## Problem 1.\n",
    "What is the collision rate for He$^+$ in the IGM at $z\\sim3$?"
   ]
  },
  {
   "cell_type": "markdown",
   "metadata": {},
   "source": [
    "__Answer:__\n",
    "Firstly, number densities scale as $(1+z)^3$.  Today, $n_H\\sim2{\\rm e}-7$ cm$^{-3}$, so at $z=3$, \n",
    "$n_H=n_p=n_e\\sim1{\\rm e}-5$ cm$^{-3}$.  Our collision rate is $R=\\langle n_e\\sigma v\\rangle$, which\n",
    "we will approximate saying that $v\\sim\\sqrt{2kT/m_e}\\sim6{\\rm e}8$ cm/s and $\\sigma$ is done with Coulomb focusing:\n",
    "\\begin{equation}\n",
    "\\sigma=\\pi a_0^2\\left(1+\\frac{Ze^2}{m_ev^2a_0}\\right)\n",
    "\\end{equation}\n",
    "For He$^+$, $Z=2$ and $a_{0,{\\rm He}}=a_0/Z$.  For our given velocity, this makes the term inside parentheses about\n",
    "1.6, so $\\sigma\\sim3{\\rm e}-17$ cm$^2$.  Plugging this into our rate equation, $R\\sim2e-13$ s$^{-1}$."
   ]
  },
  {
   "cell_type": "markdown",
   "metadata": {},
   "source": [
    "## Problem 2.\n",
    "What is the spontaneous decay rate for the He$^+$ 2-1 transition?  \n",
    "Remember that He$^+$ is hydrogen-like and electronic transition energies scale as $Z^2$."
   ]
  },
  {
   "cell_type": "markdown",
   "metadata": {},
   "source": [
    "__Answer:__\n",
    "$A=5e8$ 1/s for H.  If energies scale as $Z^2$ and $A$ scales as $\\nu^3$, then $A_{\\rm He}\\sim3e10$ 1/s."
   ]
  },
  {
   "cell_type": "markdown",
   "metadata": {},
   "source": [
    "## Problem 3.\n",
    "Are the excitation levels of He$^+$ set by collisions?"
   ]
  },
  {
   "cell_type": "markdown",
   "metadata": {},
   "source": [
    "__Answer:__\n",
    "Nope."
   ]
  },
  {
   "cell_type": "markdown",
   "metadata": {},
   "source": [
    "## Problem 4.\n",
    "The Cosmic Microwave Background (CMB) is made up of light released when H was first formed at $z\\sim1100$ (we'll discuss the Saha Equation governing this soon). After reionization (which happened, very roughly, 1 Gyr after the Big Bang; our Universe is 13.8 Gyrs old), it was possible for CMB photons to scatter off of free electrons in the\n",
    "IGM. Estimate the optical depth of this scattering, assuming light travels at the speed of light, even while space changes size."
   ]
  },
  {
   "cell_type": "code",
   "execution_count": 1,
   "metadata": {},
   "outputs": [
    {
     "name": "stdout",
     "output_type": "stream",
     "text": [
      "Optical Depth: 0.055\n"
     ]
    }
   ],
   "source": [
    "t_year = 3.14e7 # seconds in a year\n",
    "t_z = {}\n",
    "t_z[6] = 0.94e9 * t_year # seconds from BB to z=6\n",
    "t_z[5] = 1.18e9 * t_year # seconds from BB to z=5\n",
    "t_z[4] = 1.55e9 * t_year # seconds from BB to z=4\n",
    "t_z[3] = 2.16e9 * t_year # seconds from BB to z=3\n",
    "t_z[2] = 3.30e9 * t_year # seconds from BB to z=2\n",
    "t_z[1] = 5.87e9 * t_year # seconds from BB to z=1\n",
    "t_z[0] = 13.8e9 * t_year # seconds from Big Bang to z=0 (now)\n",
    "n_H = 2e-7 # cm^-3\n",
    "c = 3e10 # cm/s\n",
    "sigma_T = 6.6e-25 # cm^2, Thomson crosssection\n",
    "# Calculations here\n",
    "\n",
    "def n_e(z):\n",
    "    return n_H * (1+z)**3\n",
    "\n",
    "def distance(z2, z1):\n",
    "    return c*(t_z[z1] - t_z[z2])\n",
    "\n",
    "def dtau(z2, z1):\n",
    "    return n_e(z2) * distance(z2, z1) * sigma_T\n",
    "\n",
    "tau = sum([dtau(z,z-1) for z in [6,5,4,3,2,1]])\n",
    "print('Optical Depth: %5.3f' % tau)"
   ]
  },
  {
   "cell_type": "markdown",
   "metadata": {},
   "source": [
    "__Answer:__\n",
    "It measured answer (Planck 2018) is $\\tau=0.056\\pm0.007$. We got surprisingly close just doing a stepwise integral.  It's worth mentioning that this scattering is one of the things that interferes with our ability\n",
    "to measure the distribution of matter on the largest scales in the Universe."
   ]
  },
  {
   "cell_type": "code",
   "execution_count": 16,
   "metadata": {},
   "outputs": [],
   "source": [
    "d = {6:'no', 4:'hi', 'cow':6, 'snake':'hiss', 5:'yes'}"
   ]
  },
  {
   "cell_type": "code",
   "execution_count": 3,
   "metadata": {},
   "outputs": [
    {
     "data": {
      "text/plain": [
       "6"
      ]
     },
     "execution_count": 3,
     "metadata": {},
     "output_type": "execute_result"
    }
   ],
   "source": [
    "d['cow']"
   ]
  },
  {
   "cell_type": "code",
   "execution_count": 5,
   "metadata": {},
   "outputs": [],
   "source": [
    "numbers = [4, 5, 2, 9, 10]"
   ]
  },
  {
   "cell_type": "code",
   "execution_count": 8,
   "metadata": {},
   "outputs": [
    {
     "data": {
      "text/plain": [
       "[5, 6, 10, 11]"
      ]
     },
     "execution_count": 8,
     "metadata": {},
     "output_type": "execute_result"
    }
   ],
   "source": [
    "[n+1 for n in numbers if n > 3]"
   ]
  },
  {
   "cell_type": "code",
   "execution_count": 9,
   "metadata": {},
   "outputs": [
    {
     "data": {
      "text/plain": [
       "30"
      ]
     },
     "execution_count": 9,
     "metadata": {},
     "output_type": "execute_result"
    }
   ],
   "source": [
    "sum(numbers)"
   ]
  },
  {
   "cell_type": "code",
   "execution_count": 10,
   "metadata": {},
   "outputs": [
    {
     "data": {
      "text/plain": [
       "{'cowe': 6, 'snakee': 'hiss'}"
      ]
     },
     "execution_count": 10,
     "metadata": {},
     "output_type": "execute_result"
    }
   ],
   "source": [
    "{key+'e':val for key,val in d.items()}"
   ]
  },
  {
   "cell_type": "code",
   "execution_count": 17,
   "metadata": {},
   "outputs": [
    {
     "name": "stdout",
     "output_type": "stream",
     "text": [
      "6 no\n",
      "4 hi\n",
      "cow 6\n",
      "snake hiss\n",
      "5 yes\n"
     ]
    }
   ],
   "source": [
    "for key,val in d.items():\n",
    "    print(key, val)"
   ]
  },
  {
   "cell_type": "code",
   "execution_count": null,
   "metadata": {},
   "outputs": [],
   "source": []
  }
 ],
 "metadata": {
  "kernelspec": {
   "display_name": "Python 3",
   "language": "python",
   "name": "python3"
  },
  "language_info": {
   "codemirror_mode": {
    "name": "ipython",
    "version": 3
   },
   "file_extension": ".py",
   "mimetype": "text/x-python",
   "name": "python",
   "nbconvert_exporter": "python",
   "pygments_lexer": "ipython3",
   "version": "3.8.5"
  }
 },
 "nbformat": 4,
 "nbformat_minor": 4
}
