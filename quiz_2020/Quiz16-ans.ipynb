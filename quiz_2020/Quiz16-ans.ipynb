{
 "cells": [
  {
   "cell_type": "markdown",
   "metadata": {},
   "source": [
    "# C207 Activity Sheet 16"
   ]
  },
  {
   "cell_type": "markdown",
   "metadata": {},
   "source": [
    "# Problem 1. In the electron's (instantaneous) rest frame, what causes the acceleration that gives rise to synchrotron emission in the lab frame?"
   ]
  },
  {
   "cell_type": "markdown",
   "metadata": {},
   "source": [
    "__Answer:__\n",
    "In the electron's rest frame, it has no velocity, so there is no magnetic force.  Instead, it\n",
    "sees the Lorentz transformation of a magnetic field into an electric field."
   ]
  },
  {
   "cell_type": "markdown",
   "metadata": {},
   "source": [
    "# Problem 2. The Blob\n",
    "\n",
    "Based on Rybicki \\& Lightman 4.7.\n",
    "\n",
    "An object emits a blob of material at speed $v$ at an angle $\\theta$ to\n",
    "the line-of-sight of a distant observer.\n",
    "\n",
    "## 2.1\n",
    "Show that the apparent transverse velocity inferred by the observer\n",
    "(i.e. the angular velocity on the sky times the distance to the object) is\n",
    "\\begin{equation}\n",
    "v_{app}=\\frac{v\\sin\\theta}{1-(v/c)\\cos\\theta}\n",
    "\\end{equation}\n",
    "\n",
    "## 2.2\n",
    "Show that $v_{app}$ can exceed $c$; find the angle for which $v_{app}$ is maximum,\n",
    "and show that this maximum is $v_{max}=\\gamma v$."
   ]
  },
  {
   "cell_type": "markdown",
   "metadata": {},
   "source": [
    "__Answer 2.1:__\n",
    "The blob has two components of velocity: one along the line of sight ($v_\\parallel=v\\cos\\theta$) and one perpendicular ($v_\\perp=v\\sin\\theta$).  It is the perpendicular component that we see as \"motion\" on the sky, and it would seem that it is always smaller than $v$, except that the line-of-sight velocity serves to doppler-shift the light coming to us. This certainly changes its frequency, but more important for our purpose, it shortens the time separation between when we receive light from the blob and two different points.\n",
    "\n",
    "The doppler-shift compresses the wavefront by a factor of $1-\\frac{v_\\parallel}{c}$, so the apparent\n",
    "transverse velocity we see is\n",
    "\\begin{equation}\n",
    "v_{app}=\\frac{v_\\perp}{1-v_\\parallel/c},\n",
    "\\end{equation}\n",
    "which is the equation provided above.\n",
    "\n",
    "\n",
    "__Answer 2.2:__\n",
    "$v_{app}>c$ can happen if $\\beta\\approx1$ and $\\sin\\theta>1-\\cos\\theta$. The maximum happens when $dv_{app}/d\\theta=0$, which means\n",
    "\\begin{aligned}\n",
    "\\frac{v\\cos\\theta}{1-(v/c)\\cos\\theta} - \\frac{v\\sin\\theta}{(1-(v/c)\\cos\\theta)^2}(v/c)\\sin\\theta&=0\\\\\n",
    "\\cos\\theta &= \\frac{\\sin\\theta}{(1-(v/c)\\cos\\theta)}(v/c)\\sin\\theta\\\\\n",
    "\\cos\\theta - (v/c)\\cos^2\\theta &= (v/c)\\sin^2\\theta\\\\\n",
    "\\cos\\theta &= v/c\\\\\n",
    "\\end{aligned}\n",
    "\n",
    "In this case, the expression for $v_{app}$ becomes $v\\sin\\theta\\gamma^2$, and using that\n",
    "$\\sin\\theta=\\sqrt{1-\\cos^2\\theta}$, we have $v_{max}=v\\gamma$."
   ]
  },
  {
   "cell_type": "markdown",
   "metadata": {},
   "source": [
    "# Problem 3. Great Balls of (Relativistic) Fire\n",
    "\n",
    "It is sometimes argued that a source of radiation that\n",
    "undergoes a fluctuation of duration $\\Delta t$ must have a physical\n",
    "diameter of order $D\\lesssim c\\Delta t$.  This argument is based on the\n",
    "fact that even if all portions of the source undergo a disturbance at the same instant\n",
    "and for an infinitesimal period of time, the resulting signal at the\n",
    "observer will be smeared out over a time interval of $\\Delta t_{min}\\sim D/c$\n",
    "because of the finite light travel time across the source.  Suppose, however,\n",
    "that the source is an optically thick spherical shell of radius $R(t)$ that\n",
    "is expanding with relativistic velocity $\\beta\\sim1$,$\\gamma\\gg1$ and energized\n",
    "by a stationary point at its center.\n",
    "By consideration of relativistic beaming effects,\n",
    "show that if the observer sees a fluctuation from the shell of duration $\\Delta t$\n",
    "at time $t$, the source may actually be of radius\n",
    "\\begin{equation}\n",
    "R<2\\gamma^2c\\Delta t\n",
    "\\end{equation}\n",
    "rather than the much smaller limit given by the nonrelativistic considerations.\n",
    "In the rest frame of the shell surface, each surface element may be treated\n",
    "as an isotropic emitter.\n",
    "\n",
    "This latter argument has been used to show that the active regions\n",
    "in quasars may be much larger than $c\\Delta t\\sim1$ light month across,\n",
    "and thus avoids much energy being crammed into so small a volume."
   ]
  },
  {
   "cell_type": "markdown",
   "metadata": {},
   "source": [
    "__Answer:__\n",
    "The $\\Delta t\\sim D/c$ argument hinges on the fact that you could be observing the\n",
    "emisison from any direction.  If you were observing an emitting patch face-on (exactly\n",
    "normal to the surface), you would see no geometric spread in the emission time.  In fact,\n",
    "it is the projection of the patch width along the line of sight that adds to the pulse\n",
    "width, so $\\Delta t=\\frac{D}{c}\\sin\\theta$, where $\\theta$ is the angle of observation relative\n",
    "to the normal vector of the surface.  For an arbitrary (or angle-averaged) observation, the $\\sin\\theta$\n",
    "term is of order unity, giving the rule of thumb above.\n",
    "\n",
    "In the relativistic beaming case, we cannot observe from an arbitrary angle.  We only see emission if\n",
    "we are within $|\\theta|=1/\\gamma$, making $|\\sin\\theta|\\sim1/\\gamma$.  Another way of saying this is that\n",
    "for an expanding shell of radius $R$, we are only seeing a small $\\pm R/\\gamma$ patch of that sphere.\n",
    "Furthermore, because of Doppler shifting, a fluctuation lasting $\\Delta t$ on the shell will be squished\n",
    "to last $\\Delta t/\\gamma$ to the observer.  Taken together, this gives us that\n",
    "\\begin{equation}\n",
    "\\Delta t\\sim \\frac{R}{c\\gamma^2}.\n",
    "\\end{equation}"
   ]
  },
  {
   "cell_type": "markdown",
   "metadata": {},
   "source": [
    "# Problem 4. Compton Monte Carlo\n",
    "\n",
    "A Monte Carlo proceeds by randomly generating events to model a complex process that might be\n",
    "too difficult simulate in detail.  On your homework, you'll be asked to generate a Monte Carlo\n",
    "process that can predict a photon spectrum from an electron energy distribution.  Here, we're going\n",
    "to work toward the first stage.  Start with a photon of energy $E_{in}$ and assume after a collision\n",
    "event\n",
    "\\begin{equation}\n",
    "E_{out}=E_{in}\\gamma^2(1-\\beta\\cos\\theta_1)(1+\\beta\\cos\\theta_2).\n",
    "\\end{equation}\n",
    "Assume $\\cos\\theta$ is drawn from a uniform distribution [-1,1].  Simulate a bunch of collisions for\n",
    "the same input photon energy and plot a histogram of the resulting output energies.  Choose $\\gamma=10$."
   ]
  },
  {
   "cell_type": "code",
   "execution_count": 1,
   "metadata": {},
   "outputs": [
    {
     "data": {
      "image/png": "[encoded data removed]",
      "text/plain": [
       "<Figure size 432x288 with 1 Axes>"
      ]
     },
     "metadata": {
      "needs_background": "light"
     },
     "output_type": "display_data"
    }
   ],
   "source": [
    "import numpy as np, pylab as plt\n",
    "\n",
    "SIZE = 10000\n",
    "cos1 = np.random.uniform(size=SIZE)\n",
    "cos2 = np.random.uniform(size=SIZE)\n",
    "gamma = 10\n",
    "hist,bins = np.histogram(gamma**2 * (1-cos1)*(1+cos2))\n",
    "plt.figure()\n",
    "plt.plot(0.5*(bins[1:]+bins[:-1]), hist/SIZE)\n",
    "plt.xlabel(r'$E_{\\rm out}/E_{\\rm in}$')\n",
    "_ = plt.ylabel('Fractional Counts')"
   ]
  }
 ],
 "metadata": {
  "kernelspec": {
   "display_name": "Python 3",
   "language": "python",
   "name": "python3"
  },
  "language_info": {
   "codemirror_mode": {
    "name": "ipython",
    "version": 3
   },
   "file_extension": ".py",
   "mimetype": "text/x-python",
   "name": "python",
   "nbconvert_exporter": "python",
   "pygments_lexer": "ipython3",
   "version": "3.8.5"
  }
 },
 "nbformat": 4,
 "nbformat_minor": 4
}
