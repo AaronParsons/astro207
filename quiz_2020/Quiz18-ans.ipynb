{
 "cells": [
  {
   "cell_type": "markdown",
   "metadata": {},
   "source": [
    "# C207 Activity Sheet 18 Solutions"
   ]
  },
  {
   "cell_type": "markdown",
   "metadata": {},
   "source": [
    "<img src=\"grain_abs.png\" width=400>\n",
    "Emissivity coefficients, from Chiang et al. (2001, ApJ, 547, 1077). Note that $\\log\\epsilon$ represents the natural logarithm.\n",
    "\n",
    "# Problem 1. Grain Absorption\n",
    "\n",
    "Explain the structure you see in the _emissivities_ plotted above\n",
    "as a function of wavelength and grain size.\n",
    "How would these curves look different for absorption? Scattering?"
   ]
  },
  {
   "cell_type": "markdown",
   "metadata": {},
   "source": [
    "__Answer:__\n",
    "On the right side of the curve, we are in the Rayleigh limit, and we see emissivities dying off\n",
    "as $\\lambda^{-1}$.  On the left side, we are in the geometric limit and we see little dependence\n",
    "on grain size or composition (although small iron grains are doing something interesting).  In between\n",
    "these limits, we see structure that Mie Theory would explain as variations in the index of refraction\n",
    "of the material owing to the presence of resonant molecular transitions.  Overall, we see that larger\n",
    "grains leave the geometric limit later (as expected).  As we know from Kirckoff's Law, good emitters are\n",
    "good absorbers, so we can read emissivity equivalently as $Q_{abs}$.  Similarly, diffractive scattering would\n",
    "have a $\\lambda^{-4}$ dependence in the Rayleigh limit."
   ]
  },
  {
   "cell_type": "markdown",
   "metadata": {},
   "source": [
    "# Problem 2. Foggy, Foggy Dew\n",
    "\n",
    "Why do you need to dim your headlights when it is foggy but not when it is raining?  \n",
    "Does fog/rain impact the light seen by oncoming cars from your headlights?"
   ]
  },
  {
   "cell_type": "markdown",
   "metadata": {},
   "source": [
    "__Answer:__\n",
    "Droplets of rain are larger than droplets of fog, making the scattering from rain much more directed in\n",
    "the forward direction than for fog.  For thick fog, this leads to a \"white out\" effect where scattering\n",
    "redirects light back at the driver from many directions, making it hard to see.  For an oncoming car that\n",
    "is not directly in the path of the oncoming headlight beam, fog \n",
    "will also increase the amount of light it receives. This light will appear to come from a larger\n",
    "angular area around the oncoming headlights, making it harder for them to see as well."
   ]
  },
  {
   "cell_type": "markdown",
   "metadata": {},
   "source": [
    "# Problem 3. Nothing But Blue Skies\n",
    "\n",
    "How much more blue than red is in \"sky blue\" (including the effects of optical thickness?\n",
    "(The scale height of our atmosphere is roughly $\\sim10$ km).\n",
    "How big are the scatterers that cause our sky to be blue?"
   ]
  },
  {
   "cell_type": "code",
   "execution_count": 1,
   "metadata": {},
   "outputs": [
    {
     "name": "stdout",
     "output_type": "stream",
     "text": [
      "Sunset atmospheric distance: 38.6 km\n",
      "Ratio I_blue/I_red: 10.4\n"
     ]
    }
   ],
   "source": [
    "# Calculations here\n",
    "import numpy as np\n",
    "theta = np.deg2rad(15) # angle for \"sunset\"\n",
    "h = 10 # km\n",
    "d = h / np.sin(theta)\n",
    "print('Sunset atmospheric distance: %4.1f km' % d)\n",
    "print('Ratio I_blue/I_red: %4.1f' % ((1-np.exp(-1)) / (1-np.exp(-1/16))))"
   ]
  },
  {
   "cell_type": "markdown",
   "metadata": {},
   "source": [
    "__Answer:__\n",
    "If we start out with white light, then the difference in color comes from the variation in the cross section\n",
    "of the scatterers with wavelength.  To have such a strong blue bias, this has to be a result of \n",
    "Rayleigh scattering, with $\\sigma\\propto\\lambda^{-4}$.  Optical light covers about an octave, so we can\n",
    "assume that $\\sigma_{blue}\\sim16\\sigma_{red}$.\n",
    "\n",
    "Now you might think this translates into sky\n",
    "blue having 16 times more blue than red, but that is only true in the optically thin case.\n",
    "To figure out if we are optically thick, we can use the fact that sunsets are red about 1 hour (15 degrees)\n",
    "before the sun disappears. This means we must be absorbing out most of the blue light at $\\tau\\sim3$ (our perception limit) when going though about 4 times more atmosphere (see calculation above). This implies that we should be about $\\tau\\sim1$ for scattering.\n",
    "\n",
    "So if $N\\sigma_{blue}\\sim1$,\n",
    "we get $(1-e^{-1})/(1-e^{-1/16})$ more blue than red.  Numerically, this is about a factor of 10.\n",
    "\n",
    "Finally, to be in the Rayleigh limit, we need our particles to be smaller than the $\\lambda/2\\pi$ for blue light.\n",
    "This corresponds to a radius of $r<60$ nm.  These are small (but not quite atomic scale) particles."
   ]
  },
  {
   "cell_type": "markdown",
   "metadata": {},
   "source": [
    "# Problem 4. Our Pale Blue Dot\n",
    "\n",
    "What effect, if any, do blue skies have on the distribution of solar heating on the surface of the planet?\n",
    "Does the presence of blue light scatterers have a net warming or cooling effect overall? Is that effect latitude dependent?"
   ]
  },
  {
   "cell_type": "markdown",
   "metadata": {},
   "source": [
    "__Answer:__\n",
    "The fact that we have Rayleigh scatterers in out atmosphere, to first order, is going to have a small net cooling effect, because some blue light is going to scatter off into space (hence, our appearance as a \"pale blue dot\"). That's light we didn't absorb, so we are cooler than without such scatterers.\n",
    "\n",
    "The question of distribution is a more interesting one. Suppose the sun is over the equator (near equinox). The flux received direction from the sun on the surface of the earth (neglecting absorption) goes as $\\cos({\\rm lat})$ with latitude, simply because of surface projection. The individual particles that are Rayleigh scattering, though, are able to scatter whatever light gets to them through the atmosphere without this effect (they are round), and re-radiating isotropically, they can direct some light downward that wouldn't have gotten there before, effectively adding some heating.\n",
    "\n",
    "The question is, how much?\n",
    "\n",
    "Our calculation in Problem 3 indicated that we are becoming quite optically thick to blue scattering at 40 km, so depending on how much atmosphere the scatterers above your head are looking through, they will redirect some fraction of that downward, and that fraction is going to be latitude dependent:"
   ]
  },
  {
   "cell_type": "code",
   "execution_count": 2,
   "metadata": {},
   "outputs": [
    {
     "data": {
      "image/png": "[encoded data removed]",
      "text/plain": [
       "<Figure size 432x288 with 1 Axes>"
      ]
     },
     "metadata": {
      "needs_background": "light"
     },
     "output_type": "display_data"
    }
   ],
   "source": [
    "%matplotlib inline\n",
    "import matplotlib.pyplot as plt\n",
    "SIZE = 1024\n",
    "LAT = np.deg2rad(85)\n",
    "height = 10 # km\n",
    "h2tau = 3. / 40 # km^-1\n",
    "theta = np.linspace(-np.pi/2, np.pi/2, SIZE)\n",
    "d = h / np.cos(theta)\n",
    "plt.figure()\n",
    "plt.semilogy(np.rad2deg(theta), np.exp(-d * h2tau), label='Scattered')\n",
    "plt.semilogy(np.rad2deg(theta), np.cos(theta), label='Direct, No Scatter')\n",
    "plt.semilogy(np.rad2deg(theta), np.exp(-d * h2tau) / np.cos(theta), label='Ratio')\n",
    "plt.ylabel('Fraction of Solar Blue')\n",
    "plt.xlabel('Latitude')\n",
    "plt.legend()\n",
    "_ = plt.ylim(1e-2,1)"
   ]
  }
 ],
 "metadata": {
  "kernelspec": {
   "display_name": "Python 3",
   "language": "python",
   "name": "python3"
  },
  "language_info": {
   "codemirror_mode": {
    "name": "ipython",
    "version": 3
   },
   "file_extension": ".py",
   "mimetype": "text/x-python",
   "name": "python",
   "nbconvert_exporter": "python",
   "pygments_lexer": "ipython3",
   "version": "3.8.5"
  }
 },
 "nbformat": 4,
 "nbformat_minor": 4
}
