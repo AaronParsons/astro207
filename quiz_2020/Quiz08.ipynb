{
 "cells": [
  {
   "cell_type": "markdown",
   "metadata": {},
   "source": [
    "# C207 Activity Sheet 8"
   ]
  },
  {
   "cell_type": "markdown",
   "metadata": {},
   "source": [
    "## 1. What three factors affect the frequency width of a spectral line?"
   ]
  },
  {
   "cell_type": "markdown",
   "metadata": {},
   "source": [
    "Write a response here"
   ]
  },
  {
   "cell_type": "markdown",
   "metadata": {},
   "source": [
    "## 2. What is a Voigt Profile?"
   ]
  },
  {
   "cell_type": "markdown",
   "metadata": {},
   "source": [
    "Write a response here"
   ]
  },
  {
   "cell_type": "markdown",
   "metadata": {},
   "source": [
    "## 3. For the normal Zeeman Effect, what is the magnetic field coupling to?"
   ]
  },
  {
   "cell_type": "markdown",
   "metadata": {},
   "source": [
    "Write a response here"
   ]
  },
  {
   "cell_type": "markdown",
   "metadata": {},
   "source": [
    "## 4. Where in nature do astronomers see Zeeman splitting?"
   ]
  },
  {
   "cell_type": "markdown",
   "metadata": {},
   "source": [
    "Write a response here"
   ]
  },
  {
   "cell_type": "markdown",
   "metadata": {},
   "source": [
    "## 5. Hydrogen Spectroscopy\n",
    "\n",
    "Suppose you observe clouds of hydrogen in Ly$\\alpha$ against a white backlight.  Code up a Voigt\n",
    "profile covering $\\pm1$ THz around line center, and then simulate the absorption of the white backlight for hydrogen columns\n",
    "ranging from $N=10^4$ to $10^{10}$ cm$^{-2}$ with temperatures of 10, 100, and 1000 K.  Plot the width\n",
    "(at half depth) of the transition as a function of $N$ for each temperature.  Based on your results,\n",
    "would an optically thin or optically thick line of sight be best for learning a cloud's temperature?\n",
    "How about density?"
   ]
  },
  {
   "cell_type": "code",
   "execution_count": 1,
   "metadata": {},
   "outputs": [],
   "source": [
    "%matplotlib notebook\n",
    "import numpy as np\n",
    "import matplotlib.pyplot as plt\n",
    "\n",
    "c = 3e10 # cm/s, speed of light\n",
    "kB = 1.4e-16 # cgs, Boltzmann constant\n",
    "mp = 1e-24 # g, proton mass\n",
    "A21 = 5e8 # s^-1, Einstein A of LyA\n",
    "L21 = 121e-7 # cm, wavelength of LyA\n",
    "F21 = c / L21 # Hz, frequency of LyA\n",
    "\n",
    "def lorentz(nu, A=A21, nu0=F21):\n",
    "    \"\"\"Return a Lorentzian line profile function evaluated at the specified frequencies.\n",
    "    Arguments:\n",
    "        nu: spectral frequency [Hz]\n",
    "        A: Einstein A coefficient [s^-1], default: LyA\n",
    "        nu0: center frequency [Hz], default: LyA\"\"\"\n",
    "    ans = A/(4*np.pi)**2 / ((nu - nu0)**2 + (A/(4*np.pi))**2)\n",
    "    return ans / ans.sum()\n",
    "\n",
    "def doppler(nu, T, nu0=F21):\n",
    "    \"\"\"Return a Gaussian line profile function evaluated at the specified frequencies.\n",
    "    Arguments:\n",
    "        nu: spectral frequency [Hz]\n",
    "        T: Temperature [K]\n",
    "        nu0: center frequency [Hz], default: LyA\"\"\"\n",
    "    dnu = np.sqrt(2 * kB * T / mp) / L21\n",
    "    ans = 1./(dnu * np.sqrt(np.pi)) * np.exp(-(nu-nu0)**2/dnu**2)\n",
    "    return ans / ans.sum()\n",
    "\n",
    "def voigt(nu, T, A=A21, nu0=F21):\n",
    "    \"\"\"Return a Voigt line profile function evaluated at the specified frequencies.\n",
    "    Arguments:\n",
    "        nu: spectral frequency [Hz]\n",
    "        T: Temperature [K]\n",
    "        A: Einstein A coefficient [s^-1], default: LyA\n",
    "        nu0: center frequency [Hz], default: LyA\"\"\"\n",
    "    # FILL THIS IN\n",
    "    return \n",
    "\n",
    "def sigma(nu, A, T, nu0=F21):\n",
    "    \"\"\"Return the cross-section for photon absorption.\"\"\"\n",
    "    # FILL THIS IN\n",
    "    return \n",
    "\n",
    "nu = np.linspace(0.9995 * F21, 1.0005 * F21, 1e4)\n",
    "dnu = nu[1] - nu[0]\n",
    "\n",
    "N = np.logspace(4, 10, 100) # different column densities\n",
    "T = np.array([10,100,1000]) # different temperatures\n",
    "for Ti in T:\n",
    "    w = []\n",
    "    for Ni in N:\n",
    "        # FILL THIS IN\n",
    "        pass\n",
    "    \n",
    "# Calculations here"
   ]
  },
  {
   "cell_type": "markdown",
   "metadata": {},
   "source": [
    "Write a response here"
   ]
  }
 ],
 "metadata": {
  "kernelspec": {
   "display_name": "Python 3",
   "language": "python",
   "name": "python3"
  },
  "language_info": {
   "codemirror_mode": {
    "name": "ipython",
    "version": 3
   },
   "file_extension": ".py",
   "mimetype": "text/x-python",
   "name": "python",
   "nbconvert_exporter": "python",
   "pygments_lexer": "ipython3",
   "version": "3.8.2"
  }
 },
 "nbformat": 4,
 "nbformat_minor": 4
}
