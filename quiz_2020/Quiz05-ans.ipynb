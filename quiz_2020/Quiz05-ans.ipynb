{
 "cells": [
  {
   "cell_type": "markdown",
   "metadata": {},
   "source": [
    "# C207 Activity Sheet 5"
   ]
  },
  {
   "cell_type": "markdown",
   "metadata": {},
   "source": [
    "## 1. In what sense is a blackbody black?"
   ]
  },
  {
   "cell_type": "markdown",
   "metadata": {},
   "source": [
    "It absorbs all incident light."
   ]
  },
  {
   "cell_type": "markdown",
   "metadata": {},
   "source": [
    "## 2. Write down the equation relating populations in different energy states in a Boltzmann distribution."
   ]
  },
  {
   "cell_type": "markdown",
   "metadata": {},
   "source": [
    "\\begin{equation}\n",
    "\\frac{n_2}{n_1}=\\frac{g_2}{g_1}e^{-\\Delta E/kT}\n",
    "\\end{equation}"
   ]
  },
  {
   "cell_type": "markdown",
   "metadata": {},
   "source": [
    "## 3.What are the $g$'s and why do they matter?"
   ]
  },
  {
   "cell_type": "markdown",
   "metadata": {},
   "source": [
    "Degeneracy factors.  The more ways you have of creating a state with a given energy, the more often a random\n",
    "system will exist in that energy state."
   ]
  },
  {
   "cell_type": "markdown",
   "metadata": {},
   "source": [
    "## 4. What are the conditions for LTE and what is its observable consequence?"
   ]
  },
  {
   "cell_type": "markdown",
   "metadata": {},
   "source": [
    "Local Thermodynamic Equilibrium (LTE) requires that a system be locally (spatially and spectrally) at an\n",
    "equilibrium temperature that does not change with time.  This happens when the radiation temperature, the excitation\n",
    "temperature, and the kinetic temperature are all the same value.  The observable consequence is that the source\n",
    "function $S_\\nu$ becomes the Blackbody function at that frequency."
   ]
  },
  {
   "cell_type": "markdown",
   "metadata": {},
   "source": [
    "## 5. If we set $\\frac12 mv^2=kT$, do we get the average velocity of a particle in a Maxwellian distribution?"
   ]
  },
  {
   "cell_type": "markdown",
   "metadata": {},
   "source": [
    "Nope.  $\\bar v=\\sqrt{\\frac{8kT}{\\pi m}}$ for a Maxwellian."
   ]
  },
  {
   "cell_type": "markdown",
   "metadata": {},
   "source": [
    "## 6. Just Relax\n",
    "Suppose a cloud of hydrogen starts out with all atoms moving in random directions at a uniform speed $\\frac12 mv^2=kT$.\n",
    "Given number density $n$ and cross-section for collision $\\sigma$, estimate the amount of time required to relax to a\n",
    "Maxwellian distribution."
   ]
  },
  {
   "cell_type": "markdown",
   "metadata": {},
   "source": [
    "In our initial distribution, we have the right mean, but the wrong variance.  We need to exchange enough energy between\n",
    "atoms to resolve the difference in energy distribution.  As it turns out, nearly every atom needs to change energy state,\n",
    "so a reasonable estimate could be that the total energy exchange necessary to relax is some factor times the total\n",
    "energy content of the cloud.  What should the prefactor be?  Something between 3 and 10, I suppose.  Let's go 6.  \n",
    "\n",
    "Next,\n",
    "we need the typical energy exchange per collision.  If we adopt the rest-frame of a single atom, then other atoms approach\n",
    "at $\\vec v\\sim \\vec v_{\\rm rms}-\\vec v_{\\rm frame}$.  The frame velocity (which is just the velocity of this atom) should \n",
    "equal the rms velocity, but in a random (uncorrelated) direction.  Thus, $|\\vec v|\\sim\\sqrt{2}\\vec v_{\\rm rms}$.\n",
    "In an elastic collision, nearly all of this energy associated with this relative velocity gets transferred, which means\n",
    "that each atom involved experiences an energy exchange of about $E=\\frac12 m v_{\\rm rms}^2$, which was the total\n",
    "kinetic energy of that atom.\n",
    "\n",
    "So if we need to exchange 6 times the total kinetic energy in the cloud, that's going to correspond to about 6 collisions per atom.\n",
    "Each atom has a mean-free-path of $1/n\\sigma$ and a speed of $\\sqrt{\\frac{3kT}{m}}$, so the relaxation time should be\n",
    "6 times the collision time, for a final answer of $t\\sim\\sqrt{\\frac{10m}{kTn^2\\sigma^2}}$."
   ]
  },
  {
   "cell_type": "markdown",
   "metadata": {},
   "source": [
    "## 7. Chill\n",
    "Suppose we have an optically thick spherical cloud of dust with a radius $r$ and temperature T, radiating as an ideal Blackbody. How does the cloud's rate of change of temperature $dT/dt$ depend on $r$ and $T$? How would your answer change if it were an optically thin cloud?"
   ]
  },
  {
   "cell_type": "markdown",
   "metadata": {},
   "source": [
    "The Stefan-Boltzman Equation relates the total (not specific!) energy flux to a temperature:\n",
    "\\begin{equation}\n",
    "F=\\sigma T^4\n",
    "\\end{equation}\n",
    "The key, then, is to determine what the relevant surface area is. For an optically thick cloud, it is the outer shell $A=4\\pi r^2$, but for an optically thin cloud, it is the surface of each dust ball throughout the volume, so $A=\\sigma_{\\rm dust}\\frac43\\pi r^3 n_{\\rm dust}$.\n",
    "\n",
    "Since energy (per particle or per cloud, it doesn't matter) scales linearly with $T$, we have that\n",
    "\\begin{equation}\n",
    "\\frac{dT}{dt}\\propto T^4 r^2\n",
    "\\end{equation}\n",
    "for the optically thick case, and \n",
    "\\begin{equation}\n",
    "\\frac{dT}{dt}\\propto T^4 r^3\n",
    "\\end{equation}\n",
    "for the optically thin case."
   ]
  }
 ],
 "metadata": {
  "kernelspec": {
   "display_name": "Python 3",
   "language": "python",
   "name": "python3"
  },
  "language_info": {
   "codemirror_mode": {
    "name": "ipython",
    "version": 3
   },
   "file_extension": ".py",
   "mimetype": "text/x-python",
   "name": "python",
   "nbconvert_exporter": "python",
   "pygments_lexer": "ipython3",
   "version": "3.8.2"
  }
 },
 "nbformat": 4,
 "nbformat_minor": 4
}
