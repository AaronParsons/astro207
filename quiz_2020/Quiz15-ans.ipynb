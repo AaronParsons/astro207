{
 "cells": [
  {
   "cell_type": "markdown",
   "metadata": {},
   "source": [
    "# C207 Activity Sheet 15"
   ]
  },
  {
   "cell_type": "markdown",
   "metadata": {},
   "source": [
    "# Problem 1. For what photon energies is Compton Scattering important?\n",
    "\n",
    "__Answer:__\n",
    "It is important for high energies.  Otherwise, it just becomes Thomson scattering.\n",
    "\n",
    "# Problem 2. What is the Compton wavelength (symbolically and numerically)?\n",
    "\n",
    "__Answer:__\n",
    "\\begin{equation}\n",
    "\\lambda^\\prime - \\lambda = \\frac{h}{m_ec}(1-\\cos\\theta)\n",
    "\\end{equation}\n",
    "The Compton wavelength is $h/m_ec=0.02$ Angstroms.\n",
    "\n",
    "# Problem 3. What is the Compton wavelength for proton scattering and what does this tell you about its relative importance?\n",
    "\n",
    "__Answer:__\n",
    "The derivation of the Compton wavelength (which was done for electrons) uses the rest mass simply in the \n",
    "expressions of energy and momentum conservation, and so nothing changes for a proton, except that its mass\n",
    "is $\\sim2000$ times larger. This tells us that the wavelength shift will be 2000 times smaller, making it\n",
    "a negligible contributor to energy exchange in a neutral medium.\n",
    "\n",
    "# Problem 4. Coupling to the Cosmic Microwave Background?\n",
    "\n",
    "Show that the kinetic temperature of baryonic matter and the brightness temperature of the\n",
    "photons that become the CMB are coupled at redshift $z=1100$, before the universe becomes neutral.\n",
    "Remember, $T_{\\rm CMB}\\propto(1+z)$ and $n_H\\approx 0.5{\\rm e-}6 (1+z)^3 {\\rm cm}^{-3}$. Also,\n",
    "left to its own devices, matter would cool adiabatically as $(1+z)^2$ as the universe expands, and\n",
    "at this epoch, $dz/dt(z=1100)\\sim-0.5{\\rm e-}13 {\\rm s}^{-1}$.\n",
    "\n",
    "One final piece of cosmology: the baryon-to-photon ratio, $\\eta\\equiv\\frac{n_B}{n_\\gamma}\\sim5{\\rm e-}10$ is a very small number, meaning there are *way* more photons out there than, say, electrons. This is probably a result of a bunch of matter/antimatter annihilation in the early universe. Why this number isn't zero (e.g. why all\n",
    "the matter and antimatter didn't cancel out) is a complete mystery.\n",
    "\n",
    "__Answer:__\n",
    "Using the provided scaling relations, $T_{\\rm CMB}(z=1100)=3000$ K and $n_e=500 {\\rm cm}^{-3}$ (assuming one electron per hydrogen).\n",
    "\n",
    "Now since the electrons want to cool faster than the CMB, let's see how much energy they are losing to expansion:\n",
    "\\begin{aligned}\n",
    "\\frac{dT}{dt}&=\\frac{dT}{dz}\\frac{dz}{dt}\\\\\n",
    "&= T_{\\rm CMB}\\cdot 2(1+z) (-0.5{\\rm e-}13 {\\rm s}^{-1})\\\\\n",
    "&= 3000 {\\rm K} 2(1+z) (-0.5{\\rm e-}13 {\\rm s}^{-1})\\\\\n",
    "&= -3{\\rm e-7} {\\rm K/s}\n",
    "\\end{aligned}\n",
    "\n",
    "This corresponds to $\\frac{dE}{dt}$ of $-5{\\rm e-}23$ ergs/s.\n",
    "\n",
    "Can we compensate with photon collisions? Our collision rate is:\n",
    "\\begin{aligned}\n",
    "R&=n_\\gamma \\sigma_T c\\\\\n",
    "&=\\frac{n_e}{\\eta} \\sigma_T c\\\\\n",
    "&= (1{\\rm e}12)(1{\\rm e-}25)(3{\\rm e}10)=1{\\rm e-}3 {\\rm s}^{-1}\\\\\n",
    "\\end{aligned}\n",
    "And in each collision, the energy exchange is determined by the Compton wavelength of 0.02 Angstroms. The\n",
    "wavelength of a $kT\\sim hc/\\lambda$ photon at $T=3000$ K is $\\lambda\\sim1{\\rm e-}4$ cm. This means that\n",
    "the Compton wavelength shift is small relative to the photon wavelength, and so \n",
    "\\begin{aligned}\n",
    "dE&\\sim -\\frac{hc}{\\lambda^2}\\Delta\\lambda\\\\\n",
    "&\\sim -kT\\frac{\\Delta\\lambda}{\\lambda}\\\\\n",
    "&\\sim -(1{\\rm e}-16)(3000)(0.02{\\rm e-}8)/(1{\\rm e-}4)\\\\\n",
    "&6{\\rm e-}19 {\\rm ergs}\\\\\n",
    "\\end{aligned}\n",
    "\n",
    "Finally, if you multiply this change in energy per collision by the collision rate, we get an energy\n",
    "injection of $dE/dt\\sim6{\\rm e-}22$ ergs/s, which is almost an order of magnitude higher than what would\n",
    "be necessary to maintain equilibrium.\n",
    "\n",
    "This, however, is a bit too conservative of an estimate: here we tried to offset *all* of the electron cooling, not just the extra cooling relative to the CMB. If we restrict ourselves to just the extra $1+z$ factor (rather than $(1+z)^2$, the cooling burden drops by a factor of $\\sim1000$, meaning we are 4 orders of magnitude away from\n",
    "loosing our coupling."
   ]
  }
 ],
 "metadata": {
  "kernelspec": {
   "display_name": "Python 3",
   "language": "python",
   "name": "python3"
  },
  "language_info": {
   "codemirror_mode": {
    "name": "ipython",
    "version": 3
   },
   "file_extension": ".py",
   "mimetype": "text/x-python",
   "name": "python",
   "nbconvert_exporter": "python",
   "pygments_lexer": "ipython3",
   "version": "3.8.5"
  }
 },
 "nbformat": 4,
 "nbformat_minor": 4
}
