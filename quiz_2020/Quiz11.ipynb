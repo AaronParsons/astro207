{
 "cells": [
  {
   "cell_type": "markdown",
   "metadata": {},
   "source": [
    "# C207 Activity Sheet 11"
   ]
  },
  {
   "cell_type": "markdown",
   "metadata": {},
   "source": [
    "# Comparing CO and H$_2$\n",
    "\n",
    "Clouds of molecular hydrogen (as H$_2$ is often called) are where the gas\n",
    "in our galaxy cools down enough to form stars.  As you might imagine, if your\n",
    "job is to understand star formation, this is where you'd look.  In contrast\n",
    "to the hydrogen clouds traced by the 21cm line, these are colder ($T\\sim 10$ K)\n",
    "and more dense ($n\\sim100$ cm$^{-3}$).\n",
    "\n",
    "Cooling H$_2$ turns out to be difficult.  In this problem, we examine why."
   ]
  },
  {
   "cell_type": "markdown",
   "metadata": {},
   "source": [
    "## 1.\n",
    "Estimate the energies and frequencies of the first H$_2$ rotational and vibrational transitions.\n",
    "Note that, because H$_2$ is a quadrupole, not a dipole, $\\Delta J=\\pm1$ transitions are forbidden."
   ]
  },
  {
   "cell_type": "code",
   "execution_count": 1,
   "metadata": {},
   "outputs": [],
   "source": [
    "# Calculations here"
   ]
  },
  {
   "cell_type": "markdown",
   "metadata": {},
   "source": [
    "__Answer:__\n",
    "Write a response here"
   ]
  },
  {
   "cell_type": "markdown",
   "metadata": {},
   "source": [
    "## 2.\n",
    "Estimate Einstein A coefficients for these two transitions, using that H$_2$ is a symmetric molecule\n",
    "(e.g. quadrupole radiator)."
   ]
  },
  {
   "cell_type": "code",
   "execution_count": 2,
   "metadata": {},
   "outputs": [],
   "source": [
    "# Calculations here"
   ]
  },
  {
   "cell_type": "markdown",
   "metadata": {},
   "source": [
    "__Answer:__\n",
    "Write a response here"
   ]
  },
  {
   "cell_type": "markdown",
   "metadata": {},
   "source": [
    "## 3.\n",
    "Assume that molecular collisions (discussed next week) are frequent enough to set Boltzmann \n",
    "population statistics for \n",
    "excited/de-excited states to a temperature of 10 K. Also assume these clouds are optically thin. \n",
    "Which transition (vibrational or rotational) contributes\n",
    "the most to cooling this gas?  To order of magnitude long would it take to cool to 5 K if photons\n",
    "keep carrying off energy from transitions that then draw more energy out of collisions?"
   ]
  },
  {
   "cell_type": "code",
   "execution_count": 3,
   "metadata": {},
   "outputs": [],
   "source": [
    "# Calculations here"
   ]
  },
  {
   "cell_type": "markdown",
   "metadata": {},
   "source": [
    "__Answer:__\n",
    "Write a response here"
   ]
  },
  {
   "cell_type": "markdown",
   "metadata": {},
   "source": [
    "## 4.\n",
    "Now suppose there is some CO sprinkled in with the H$_2$.  A typical CO/H$_2$ ratio in the Milky Way\n",
    "is $6{\\rm e}-5$.  Using the $J=1\\rightarrow0$ transition of CO ($\\nu_0=115$ GHz) that we examined in class and assuming\n",
    "collisions set the population statistics, how does the presence of CO change the cooling time you\n",
    "derived above?"
   ]
  },
  {
   "cell_type": "code",
   "execution_count": 4,
   "metadata": {},
   "outputs": [],
   "source": [
    "# Calculations here"
   ]
  },
  {
   "cell_type": "markdown",
   "metadata": {},
   "source": [
    "__Answer:__\n",
    "Write a response here"
   ]
  }
 ],
 "metadata": {
  "kernelspec": {
   "display_name": "Python 3",
   "language": "python",
   "name": "python3"
  },
  "language_info": {
   "codemirror_mode": {
    "name": "ipython",
    "version": 3
   },
   "file_extension": ".py",
   "mimetype": "text/x-python",
   "name": "python",
   "nbconvert_exporter": "python",
   "pygments_lexer": "ipython3",
   "version": "3.8.2"
  }
 },
 "nbformat": 4,
 "nbformat_minor": 4
}
