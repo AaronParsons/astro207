{
 "cells": [
  {
   "cell_type": "markdown",
   "metadata": {},
   "source": [
    "# C207 Activity Sheet 14"
   ]
  },
  {
   "cell_type": "markdown",
   "metadata": {},
   "source": [
    "# Problem 1. Given that there are an infinite number of excited states of H, why don't we have infinite degeneracy for the bound state?"
   ]
  },
  {
   "cell_type": "markdown",
   "metadata": {},
   "source": [
    "__Answer:__\n",
    "\n",
    "In practice, the series of outer states of hydrogen terminates because they begin requiring infinite volume for\n",
    "the electron to occupy.  Eventually something else (e.g. another hydrogen atom) interferes."
   ]
  },
  {
   "cell_type": "markdown",
   "metadata": {},
   "source": [
    "# Problem 2. How does the cross-section of a (fixed) bound-free transition scale with photon energy?"
   ]
  },
  {
   "cell_type": "markdown",
   "metadata": {},
   "source": [
    "__Answer:__\n",
    "\\begin{equation}\n",
    "\\sigma_{bf}\\sim6{\\rm e}-18~{\\rm cm}^2\\left(\\frac{E}{\\chi}\\right)^{-3}\n",
    "\\end{equation}"
   ]
  },
  {
   "cell_type": "markdown",
   "metadata": {},
   "source": [
    "# Problem 3. Hard and Soft X-rays\n",
    "\n",
    "What is the hardest (highest energy) X-ray that would contribute to ionizing the IGM at $z\\sim15$\n",
    "($H^{-1}\\sim400$ Myrs),  prior to\n",
    "reionization?  Would this same x-ray contribute to heating the \n",
    "IGM at $z\\sim6$ ($H^{-1}\\sim1400$ Myrs), after reionization?"
   ]
  },
  {
   "cell_type": "markdown",
   "metadata": {},
   "source": [
    "__Answer:__\n",
    "Prior to reionization, x-rays ionize hydrogen with a cross-section\n",
    "\\begin{equation}\n",
    "\\sigma_{bf}\\sim6{\\rm e}-18~{\\rm cm}^2\\left(\\frac{E}{\\chi}\\right)^{-3}.\n",
    "\\end{equation}\n",
    "In order to contribute to ionization, the timescale for photoionization with this cross-section should\n",
    "probably be less than a Hubble time, so for the hardest x-ray\n",
    "\\begin{equation}\n",
    "H^{-1}\\sim (n_H\\sigma_{bf}c)^{-1}\n",
    "\\end{equation}\n",
    "We've worked out before that $n_H(z)\\sim2{\\rm e}-7(1+z)^3$ cm$^{-3}$, so at $z=15$, we get $\\sigma_{bf}\\sim3{\\rm e}-24$ cm$^2$.\n",
    "Scaling that from the cross-section at the ionization threshold of 13.6 eV, we get $E\\sim1600$ eV.\n",
    "\n",
    "At $z=6$, we are no longer colliding with hydrogen (there isn't any).  Instead, x-rays hit electrons directly, with\n",
    "a cross-section of $\\sigma_T\\sim7{\\rm e}-25$ cm$^2$.  In this case $n\\sigma_Tc\\sim1{\\rm e}-18$ s$^{-1}$.  This works\n",
    "out to be a timescale of order 23 Gyrs, which means that these x-rays don't heat the IGM after reionization."
   ]
  },
  {
   "cell_type": "markdown",
   "metadata": {},
   "source": [
    "# Problem 4. Weighing the Universe\n",
    "\n",
    "Knowing that the redshift of recombination was $z\\sim1100$ and that the CMB temperature today is $2.7K$, what should\n",
    "be the density of baryons in the universe today?  Compare this to $\\rho_{\\rm c}=3H^2/8\\pi G\\sim1{\\rm e-}29 \\frac{\\rm g}{\\rm cm^3}$, the critical energy density\n",
    "required for a flat universe today.  It may help to know that $T\\propto(1+z)$ and $n\\propto(1+z)^3$. Note: the correct answer is $\\rho_{b}/\\rho_{\\rm c}\\sim0.02$."
   ]
  },
  {
   "cell_type": "markdown",
   "metadata": {},
   "source": [
    "__Answer:__\n",
    "The implied temperature at recombination is $T=2.7 (1100)\\approx 3000$ K.  Plugging this into the Saha equation\n",
    "and assuming that $n_p=n_e\\sim f_{ion}n_H$, we get\n",
    "\\begin{equation}\n",
    "f_{ion}^2 n_H\\sim\\frac{2U_+}{U}\\left(\\frac{2\\pi m_ekT}{h^2}\\right)^\\frac32 e^{-\\chi/kT}\n",
    "\\end{equation}\n",
    "Using that $U_+=2$ for a proton and $U\\approx 4n_{\\rm max}^2$, where $n_{\\rm max}\\sim100$, we can use our temperature\n",
    "and the binding energy of hydrogen to get a value of $n_H\\sim7e-7$ cm$^{-3}$ at redshift 1100.  We can then\n",
    "translate that to $z=0$ to get $n_H(z=0)=5{\\rm e}-16$.  Expressed as a density (using the mass of a proton),\n",
    "we get $\\rho_B\\sim8{\\rm e}-40$ g/cm$^3$.  This is much smaller than the actual value of $\\rho_B/\\rho_c\\approx 0.02$.\n",
    "Why are we so far off?  Because you can't do order of magnitude very effectively inside an exponential!  If you tweak\n",
    "the value in the exponent by even a few percent, we get orders of magnitude swings in the result.  So I guess\n",
    "you have to do cosmology for real, after all.\n",
    "\n",
    "If we are willing to do cosmology, we can avoid the exponential by setting the recombination time to be a Hubble time.\n",
    "To a not-horrible approximation, a Hubble time is about the current age of the Universe.  Recombination happened\n",
    "at $t=300,000$ yrs.  Setting $t_{\\rm rec}=1/n_H\\alpha_B=300,000$ yrs, we get $n_H\\sim1$ cm$^{-3}$.  This \n",
    "translates to $n_H(z=0)\\sim7{\\rm e}-10$ cm$^{-3}$ and $\\rho_B\\sim1{\\rm e}-33$.  This is closer, although still\n",
    "about 2 orders of magnitude off."
   ]
  },
  {
   "cell_type": "code",
   "execution_count": null,
   "metadata": {},
   "outputs": [],
   "source": []
  }
 ],
 "metadata": {
  "kernelspec": {
   "display_name": "Python 3",
   "language": "python",
   "name": "python3"
  },
  "language_info": {
   "codemirror_mode": {
    "name": "ipython",
    "version": 3
   },
   "file_extension": ".py",
   "mimetype": "text/x-python",
   "name": "python",
   "nbconvert_exporter": "python",
   "pygments_lexer": "ipython3",
   "version": "3.8.5"
  }
 },
 "nbformat": 4,
 "nbformat_minor": 4
}
