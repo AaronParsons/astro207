{
 "cells": [
  {
   "cell_type": "markdown",
   "metadata": {},
   "source": [
    "# C207 Activity Sheet 6 Solutions"
   ]
  },
  {
   "cell_type": "markdown",
   "metadata": {},
   "source": [
    "## 1. What are a Rydberg and Ly-$\\alpha$...\n",
    "### in words?\n",
    "### numerically?"
   ]
  },
  {
   "cell_type": "markdown",
   "metadata": {},
   "source": [
    "The energies to ionize (Rydberg = 13.6 eV) or excite the first electronic transition (Ly$\\alpha$ = 10.4 eV) in a hydrogen atom."
   ]
  },
  {
   "cell_type": "markdown",
   "metadata": {},
   "source": [
    "## 2. Explain the difference between fine and hyperfine interactions. What makes one stronger than the other?\n"
   ]
  },
  {
   "cell_type": "markdown",
   "metadata": {},
   "source": [
    "Fine and hyperfine are both magnetic interactions, the former being the interaction of the electron spin with the Bohr magneton (the magnetic dipole of the electron orbital) and the latter being the interaction between the electron spin and the nuclear spin.  The Fine structure (Bohr magneton) is stronger because, for the same angular momentum, an electron moves faster and has a higher magnetic moment than the nucleus."
   ]
  },
  {
   "cell_type": "markdown",
   "metadata": {},
   "source": [
    "## 3. What are the key ingredients to remember for reproducing the \"semi-classical\" Bohr atom model?"
   ]
  },
  {
   "cell_type": "markdown",
   "metadata": {},
   "source": [
    "The key ingredients of the story are: \n",
    "* quantize angular momentum in units of $\\hbar$,\n",
    "* make electric forces balance centripetal acceleration $a=v^2/r$,\n",
    "* use $v/c$ to transform electric fields to magnetic fields (and use Maxwell's equations for current)\n",
    "* assign the electron a radius based on its binding energy\n",
    "* use the scalings of dipole fields with radius $B=\\mu/r^3$"
   ]
  },
  {
   "cell_type": "markdown",
   "metadata": {},
   "source": [
    "## 4. Why do you think this model works as well as it does?"
   ]
  },
  {
   "cell_type": "markdown",
   "metadata": {},
   "source": [
    "This is a toughie, philosophically. The model is flawed, but it incorporates just enough QM to get things to about a factor of 2. You can regard this as a \"deus ex machina\" where the story was cooked up to work (which it was). I like to think that there is a kernel of truth in each step that comes from the fact that QM must reproduce classical mechanics in ensemble on large scales, and QM just acts to make the math more of a headache without fundamentally changing what is going on."
   ]
  },
  {
   "cell_type": "markdown",
   "metadata": {},
   "source": [
    "## 5. If accelerating charges produce Larmor radiation and decay, why doesn't the ground state of hydrogen decay?"
   ]
  },
  {
   "cell_type": "markdown",
   "metadata": {},
   "source": [
    "Here, we need QM to blur things out for us. In the ground state, the electron's wavefunction occupies a uniform shell with no angular momentum. The charge distribution doesn't change, so there are no electric field discontinuities and no Larmor radiation."
   ]
  },
  {
   "cell_type": "markdown",
   "metadata": {},
   "source": [
    "## 6. Multiple Multipoles\n",
    "\n",
    "### 6.1\n",
    "Write down the electric field a distance $r$ away from a monopole of charge $q$."
   ]
  },
  {
   "cell_type": "markdown",
   "metadata": {},
   "source": [
    "\\begin{equation}\n",
    "E=\\frac{q}{r^2}\n",
    "\\end{equation}"
   ]
  },
  {
   "cell_type": "markdown",
   "metadata": {},
   "source": [
    "### 6.2\n",
    "Someone moves another monopole of charge $-q$ next to the original monopole.\n",
    "The two charges are separated by a distance $b$. Derive, to order-of-magnitude,\n",
    "the factor by which this dipole electric field is reduced from the monopole\n",
    "field."
   ]
  },
  {
   "cell_type": "markdown",
   "metadata": {},
   "source": [
    "The trickiest part here is to choose where to evaluate the dipole field.  \n",
    "Life is easier if we choose a point in line with the separation of charges (as opposed to\n",
    "perpendicular to it).  If we do this, then we have\n",
    "\\begin{equation}\n",
    "E=\\frac{q}{r^2}-\\frac{q}{(r+b)^2}\\approx\\frac{q}{r^2}-\\frac{q}{r^2}+\\frac{2bq}{r^3}\\approx\\frac{2bq}{r^3},\n",
    "\\end{equation}\n",
    "where we used $b\\ll r$ to say that the change in the field displaced by $b$ is just $b$ times\n",
    "the derivative of the electric field wrt $r$.  Relative to the monopole field, the dipole field\n",
    "has been reduced by a factor of $\\sim b/r$."
   ]
  },
  {
   "cell_type": "markdown",
   "metadata": {},
   "source": [
    "### 6.3\n",
    "Repeat this for two anti-aligned dipoles to find the\n",
    "factor by which the field of a quadrupole is reduced from the dipole field."
   ]
  },
  {
   "cell_type": "markdown",
   "metadata": {},
   "source": [
    "Using the same trick as above, we can differentiate the dipole fields to get a quadrupole field:\n",
    "\\begin{equation}\n",
    "E\\approx\\frac{-6b^2q}{r^4}.\n",
    "\\end{equation}\n",
    "Relative to the dipole field, this is down by a factor of $\\sim b/r$ again."
   ]
  },
  {
   "cell_type": "markdown",
   "metadata": {},
   "source": [
    "### 6.4\n",
    "Now imagine dipoles and quadrupoles \n",
    "rotating about their centers-of-charge with frequency $\\nu$. We have a rotating\n",
    "barbell and a rotating square, respectively. (Think CO and H$_2$).\n",
    "What is the maximum distance from each object inside of\n",
    "which the electric fields are nearly perfectly in phase with the rotation?\n",
    "This is the boundary of the near zone, inside of which the electric field\n",
    "geometry rotates with frequency $\\nu$ as if it were a rigid body."
   ]
  },
  {
   "cell_type": "markdown",
   "metadata": {},
   "source": [
    "Electric field lines can't move at faster than the speed of light, $c$.  For rigid body\n",
    "rotation, the velocity at a distance $d$ is $v=\\omega d$, where $\\omega=2\\pi\\nu$ is the angular\n",
    "frequency.  If we set $v=c$, then we have that $d=c/2\\pi\\nu$. "
   ]
  },
  {
   "cell_type": "markdown",
   "metadata": {},
   "source": [
    "### 6.5\n",
    "If we define the near-zone boundary as the surface from which a spinning multipole radiates\n",
    "Larmor radiation, what is the factor relating the power radiated by a dipole vs. a quadrupole?"
   ]
  },
  {
   "cell_type": "markdown",
   "metadata": {},
   "source": [
    "Interestingly, one can \n",
    "estimate the power loss of a charged rotor by estimating the \n",
    "Poynting Flux $F=\\frac{c}{4\\pi}\\vec E\\times\\vec B$ at the surface of the sphere.  In the static case,\n",
    "$|\\vec B|=0$, so there is no power loss, but in the rapid rotation case at the surface of the\n",
    "co-rotation sphere, we know that we have to be spinning off EM waves where $|\\vec B|=|\\vec E|$.\n",
    "So estimating that $F\\approx\\frac{c}{4\\pi}|\\vec E|^2$, we can multiply in the surface are to get approximately the\n",
    "total power loss rate.  For a dipole, this comes to\n",
    "\\begin{equation}\n",
    "P=F\\cdot A\\approx\\frac{c}{4\\pi}\\frac{4b^2q^2}{d^6}4\\pi d^2\\approx\\frac{4b^2q^2c}{d^4},\n",
    "\\end{equation}\n",
    "where $d=c/\\omega$.  This gives us\n",
    "\\begin{equation}\n",
    "P\\approx\\frac{4\\omega^4b^2q^2}{c^3}\n",
    "\\end{equation}"
   ]
  }
 ],
 "metadata": {
  "kernelspec": {
   "display_name": "Python 3",
   "language": "python",
   "name": "python3"
  },
  "language_info": {
   "codemirror_mode": {
    "name": "ipython",
    "version": 3
   },
   "file_extension": ".py",
   "mimetype": "text/x-python",
   "name": "python",
   "nbconvert_exporter": "python",
   "pygments_lexer": "ipython3",
   "version": "3.8.2"
  }
 },
 "nbformat": 4,
 "nbformat_minor": 4
}
