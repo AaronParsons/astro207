{
 "cells": [
  {
   "cell_type": "markdown",
   "metadata": {},
   "source": [
    "# C207 Activity Sheet 6"
   ]
  },
  {
   "cell_type": "markdown",
   "metadata": {},
   "source": [
    "## 1. What are a Rydberg and Ly-$\\alpha$...\n",
    "### in words?\n",
    "### numerically?"
   ]
  },
  {
   "cell_type": "markdown",
   "metadata": {},
   "source": [
    "Write a response here"
   ]
  },
  {
   "cell_type": "markdown",
   "metadata": {},
   "source": [
    "## 2. Explain the difference between fine and hyperfine interactions. What makes one stronger than the other?\n"
   ]
  },
  {
   "cell_type": "markdown",
   "metadata": {},
   "source": [
    "Write a response here"
   ]
  },
  {
   "cell_type": "markdown",
   "metadata": {},
   "source": [
    "## 3. What are the key ingredients to remember for reproducing the \"semi-classical\" Bohr atom model?"
   ]
  },
  {
   "cell_type": "markdown",
   "metadata": {},
   "source": [
    "Write a response here"
   ]
  },
  {
   "cell_type": "markdown",
   "metadata": {},
   "source": [
    "## 4. Why do you think this model works as well as it does?"
   ]
  },
  {
   "cell_type": "markdown",
   "metadata": {},
   "source": [
    "Write a response here"
   ]
  },
  {
   "cell_type": "markdown",
   "metadata": {},
   "source": [
    "## 5. If accelerating charges produce Larmor radiation and decay, why doesn't the ground state of hydrogen decay?"
   ]
  },
  {
   "cell_type": "markdown",
   "metadata": {},
   "source": [
    "Write a response here"
   ]
  },
  {
   "cell_type": "markdown",
   "metadata": {},
   "source": [
    "## 6. Multiple Multipoles\n",
    "\n",
    "### 6.1\n",
    "Write down the electric field a distance $r$ away from a monopole of charge $q$."
   ]
  },
  {
   "cell_type": "markdown",
   "metadata": {},
   "source": [
    "Write a response here"
   ]
  },
  {
   "cell_type": "markdown",
   "metadata": {},
   "source": [
    "### 6.2\n",
    "Someone moves another monopole of charge $-q$ next to the original monopole.\n",
    "The two charges are separated by a distance $b$. Derive, to order-of-magnitude,\n",
    "the factor by which this dipole electric field is reduced from the monopole\n",
    "field."
   ]
  },
  {
   "cell_type": "markdown",
   "metadata": {},
   "source": [
    "Write a response here"
   ]
  },
  {
   "cell_type": "markdown",
   "metadata": {},
   "source": [
    "### 6.3\n",
    "Repeat this for two anti-aligned dipoles to find the\n",
    "factor by which the field of a quadrupole is reduced from the dipole field."
   ]
  },
  {
   "cell_type": "markdown",
   "metadata": {},
   "source": [
    "Write a response here"
   ]
  },
  {
   "cell_type": "markdown",
   "metadata": {},
   "source": [
    "### 6.4\n",
    "Now imagine dipoles and quadrupoles \n",
    "rotating about their centers-of-charge with frequency $\\nu$. We have a rotating\n",
    "barbell and a rotating square, respectively. (Think CO and H$_2$).\n",
    "What is the maximum distance from each object inside of\n",
    "which the electric fields are nearly perfectly in phase with the rotation?\n",
    "This is the boundary of the near zone, inside of which the electric field\n",
    "geometry rotates with frequency $\\nu$ as if it were a rigid body."
   ]
  },
  {
   "cell_type": "markdown",
   "metadata": {},
   "source": [
    "Write a response here"
   ]
  },
  {
   "cell_type": "markdown",
   "metadata": {},
   "source": [
    "### 6.5\n",
    "If we define the near-zone boundary as the surface from which a spinning multipole radiates\n",
    "Larmor radiation, what is the factor relating the power radiated by a dipole vs. a quadrupole?"
   ]
  },
  {
   "cell_type": "markdown",
   "metadata": {},
   "source": [
    "Write a response here"
   ]
  }
 ],
 "metadata": {
  "kernelspec": {
   "display_name": "Python 3",
   "language": "python",
   "name": "python3"
  },
  "language_info": {
   "codemirror_mode": {
    "name": "ipython",
    "version": 3
   },
   "file_extension": ".py",
   "mimetype": "text/x-python",
   "name": "python",
   "nbconvert_exporter": "python",
   "pygments_lexer": "ipython3",
   "version": "3.8.2"
  }
 },
 "nbformat": 4,
 "nbformat_minor": 4
}
