{
 "cells": [
  {
   "cell_type": "markdown",
   "metadata": {},
   "source": [
    "# C207 Activity Sheet 2"
   ]
  },
  {
   "cell_type": "markdown",
   "metadata": {},
   "source": [
    "## 1. What are the units of specific intensity, $I_\\nu$?"
   ]
  },
  {
   "cell_type": "markdown",
   "metadata": {},
   "source": [
    "\\begin{equation}\n",
    "\\frac{\\rm ergs}{{\\rm s}\\ {\\rm cm}^2\\ {\\rm Hz}\\ {\\rm sr}}\n",
    "\\end{equation}"
   ]
  },
  {
   "cell_type": "markdown",
   "metadata": {},
   "source": [
    "## 2. What do optically thick and optically thin mean, qualitatively and quantitatively?"
   ]
  },
  {
   "cell_type": "markdown",
   "metadata": {},
   "source": [
    "Optically thick means that the background light is heavily attenuated (we are seeing only the medium).  Optically\n",
    "thin means there is no \"self-shadowing\" of absorbers and most lines of sight pass through the medium unobstructed.\n",
    "\n",
    "Quantitatively, thick means $\\tau=N\\sigma\\gg1$ and thin means $\\tau\\ll1$."
   ]
  },
  {
   "cell_type": "markdown",
   "metadata": {},
   "source": [
    "## 3. What do you call the ratio of the emission to extinction in a medium?"
   ]
  },
  {
   "cell_type": "markdown",
   "metadata": {},
   "source": [
    "The \"Source Function\" $S_\\nu\\equiv\\frac{j_\\nu}{\\alpha_\\nu}$."
   ]
  },
  {
   "cell_type": "markdown",
   "metadata": {},
   "source": [
    "## 4. What does $s$ measure in the following equation?\n",
    "\\begin{equation}\n",
    "\\frac{dI_\\nu}{ds}=j_\\nu-\\alpha_\\nu I_\\nu\n",
    "\\end{equation}"
   ]
  },
  {
   "cell_type": "markdown",
   "metadata": {},
   "source": [
    "$s$ measures the distance (with units of length) along the ray whose specific intensity is described by $I_\\nu$."
   ]
  },
  {
   "cell_type": "markdown",
   "metadata": {},
   "source": [
    "## 5. What is the specific intensity of the Sun in visible wavelengths? How about a 100W incandescent light bulb?"
   ]
  },
  {
   "cell_type": "code",
   "execution_count": 1,
   "metadata": {},
   "outputs": [
    {
     "name": "stdout",
     "output_type": "stream",
     "text": [
      "I_sun = 4.5680883588392255e-05 erg/s/cm^2/Hz/sr\n",
      "I_bulb = 1.2665895043452756e-08 erg/s/cm^2/Hz/sr\n"
     ]
    }
   ],
   "source": [
    "F_sun = 1366 # W / m^2, Solar flux at earth's surface\n",
    "P_bulb = 100 # W\n",
    "F_sun = F_sun * 1e7 / (100**2) # ergs / s / cm^2\n",
    "P_bulb = P_bulb * 1e7 # ergs / s\n",
    "\n",
    "pi = 3.1415\n",
    "c = 3e10 # cm/s, speed of light\n",
    "wavelen_blue = 300e-7 # cm, wavelength of blue light is 300 nm\n",
    "nu_blue = c / wavelen_blue # Hz, frequency of blue light\n",
    "bandwidth_vis = nu_blue / 2 # visible spectrum about an octave\n",
    "\n",
    "theta_sun = 0.5 # deg, angular width of sun\n",
    "theta_sun = theta_sun * pi / 180 # radians\n",
    "omega_sun = pi * (theta_sun / 2)**2 # sr, angular size of solar disk\n",
    "I_sun = F_sun / omega_sun / bandwidth_vis\n",
    "print(f'I_sun = {I_sun} erg/s/cm^2/Hz/sr')\n",
    "\n",
    "r_bulb = 1 # cm, radius of an incadencent bulb\n",
    "F_bulb = P_bulb / (4 * pi * r_bulb**2)\n",
    "omega_bulb = 4 * pi\n",
    "I_bulb = F_bulb / omega_bulb / bandwidth_vis\n",
    "print(f'I_bulb = {I_bulb} erg/s/cm^2/Hz/sr')"
   ]
  },
  {
   "cell_type": "markdown",
   "metadata": {},
   "source": [
    "For a light bulb, 100 W = $1{\\rm e}9$ erg/s, $\\Omega\\sim4\\pi$, and $B\\sim1{\\rm e}15$ Hz.  We also need to divide out\n",
    "the area of the radiating surface.  If a light bulb glows over a sphere of radius $\\sim$1 cm, then\n",
    "$A=4\\pi r^2\\sim12$ cm$^2$.  All together, I get $I\\sim1{\\rm e}-8$ ergs/s/Hz/sr/cm$^2$.  This is about 1/4000 as bright\n",
    "as the Sun, which seems about right (you don't go blind staring at a light bulb)."
   ]
  },
  {
   "cell_type": "markdown",
   "metadata": {},
   "source": [
    "## 6. Be the Tree\n",
    "What is the optical depth of a leafy tree to someone lying below the tree? "
   ]
  },
  {
   "cell_type": "markdown",
   "metadata": {},
   "source": [
    "Using that $\\tau=n\\sigma s$, we can try to estimate the number density and cross section of leaves,\n",
    "along with the distance through the canopy of a tree, to get optical depth.  In a box 10 cm on a side,\n",
    "I estimate I might find 2 or 3 leaves, each with a dimension of about 3 cm x 5 cm.  Thus, $n\\sim3e-3$ cm$^{-3}$\n",
    "and $\\sigma\\sim15$ cm$^2$.  Although trees are easily 10 m high, I think the distance through the canopy is\n",
    "a bit less than this, because the canopy tends to be a bit of a shell.  I'll estimate it at 1 m.  That\n",
    "gives an optical depth of $\\tau\\sim4$.  That seems plausible; more than that and new leaves just shadow old\n",
    "leaves (so no incentive to grow them); less than 1 or 2, and you're missing light you could've absorbed!"
   ]
  },
  {
   "cell_type": "markdown",
   "metadata": {},
   "source": [
    "## 7. Glowsticks\n",
    "Estimate the emissivity of an orange glowstick. (My recollection is that you can read by the light of one, which is also true of a 10 mW yellow LED)."
   ]
  },
  {
   "cell_type": "code",
   "execution_count": 2,
   "metadata": {},
   "outputs": [
    {
     "name": "stdout",
     "output_type": "stream",
     "text": [
      "I_glow = 2.1109825072421263e-11 erg/s/cm^2/Hz/sr\n"
     ]
    }
   ],
   "source": [
    "# Calculations here\n",
    "P_glow = 10e-3 # W\n",
    "P_glow = P_glow * 1e7 # erg/s\n",
    "B_orange = 600e12 # Hz\n",
    "r = 0.2 # cm\n",
    "length = 10 # cm\n",
    "V = pi * r**2 * length\n",
    "I_glow = P_glow / V / B_orange / (4 * pi)\n",
    "print(f'I_glow = {I_glow} erg/s/cm^2/Hz/sr')"
   ]
  },
  {
   "cell_type": "markdown",
   "metadata": {},
   "source": [
    "Emissivity is ergs / s / cm$^3$ / Hz / sr, which means we just need to divide the power emitted (which is very close\n",
    "to the power consumed; LEDs are efficient) by the volume occupied, the bandwidth it is spread over, and the angle it emits into. From above, we have an estimate of the entire visible band at around 1000 THz, so \"orange\" might be, what, a third of that?\n",
    "For the volume of a glowstick, I'd go with a cylinder about 2 mm in radius and 10 cm long. Finally, it emits about isotropically, so $\\Omega\\sim4\\pi$. \n",
    "\n",
    "So we can crunch the numbers on this (which is in the cell above), but a reasonable question is, what is the optical depth of a glowstick? If it is high ($\\tau\\gg1$), then when we see the \"glow\" of the glowstick, we aren't actually seeing all of the light emitted inside of it, we are only seeing a thin shell on the outside, and that would mean we shouldn't have divided out by the whole volume. I'm going to guess that manufacturers don't waste much glow juice; I bet they put just enough to make it nearly optically thick and no more. That's the assumption I've made when I assume we are seeing photons generated from everywhere in the cylinder."
   ]
  },
  {
   "cell_type": "markdown",
   "metadata": {},
   "source": [
    "## 8. The coldest winter I ever spent was a summer in San Francisco\n",
    "Use your experience with foggy Bay Area days to estimate the number density of water droplets in our fog."
   ]
  },
  {
   "cell_type": "markdown",
   "metadata": {},
   "source": [
    "On a really foggy day, I've struggled to see 100 m.  ``Struggle to see\" means $\\tau\\sim3$ according to the\n",
    "simulations I did for the optical depth video.  So given that $\\lambda_{\\rm mfp}^{-1}=n\\sigma$, we just need a value\n",
    "for sigma.  How big is a water droplet?  Probably somewhere between 1 mm and 1 $\\mu$m.  I'm going to go in the middle\n",
    "with $3{\\rm e}-3$ cm.  So that would make\n",
    "$\\sigma\\sim\\pi (3{\\rm e}-3~{\\rm cm})^2=3{\\rm e}-5$ cm$^2$.  That gives me $n\\sim3$ cm$^-3$.  Is that realistic?  Well, that's\n",
    "0.1 g per cubic meter.  Driving a car at 60 km/h, that would deposit 2 g of water per second on your windshield.  So\n",
    "you'd have to wipe them every few seconds.  Sounds about right.\n"
   ]
  }
 ],
 "metadata": {
  "kernelspec": {
   "display_name": "Python 3",
   "language": "python",
   "name": "python3"
  },
  "language_info": {
   "codemirror_mode": {
    "name": "ipython",
    "version": 3
   },
   "file_extension": ".py",
   "mimetype": "text/x-python",
   "name": "python",
   "nbconvert_exporter": "python",
   "pygments_lexer": "ipython3",
   "version": "3.8.2"
  }
 },
 "nbformat": 4,
 "nbformat_minor": 4
}
