{
 "cells": [
  {
   "cell_type": "markdown",
   "metadata": {},
   "source": [
    "# C207 Activity Sheet 15"
   ]
  },
  {
   "cell_type": "markdown",
   "metadata": {},
   "source": [
    "# Problem 1. For what photon energies is Compton Scattering important?"
   ]
  },
  {
   "cell_type": "markdown",
   "metadata": {},
   "source": [
    "__Answer:__"
   ]
  },
  {
   "cell_type": "markdown",
   "metadata": {},
   "source": [
    "# Problem 2. What is the Compton wavelength (symbolically and numerically)?"
   ]
  },
  {
   "cell_type": "code",
   "execution_count": 1,
   "metadata": {},
   "outputs": [],
   "source": [
    "# Calculations here"
   ]
  },
  {
   "cell_type": "markdown",
   "metadata": {},
   "source": [
    "__Answer:__"
   ]
  },
  {
   "cell_type": "markdown",
   "metadata": {},
   "source": [
    "# Problem 3. What is the Compton wavelength for proton scattering and what does this tell you about its relative importance?"
   ]
  },
  {
   "cell_type": "code",
   "execution_count": 2,
   "metadata": {},
   "outputs": [],
   "source": [
    "# Calculations here"
   ]
  },
  {
   "cell_type": "markdown",
   "metadata": {},
   "source": [
    "__Answer:__"
   ]
  },
  {
   "cell_type": "markdown",
   "metadata": {},
   "source": [
    "# Problem 4. Coupling to the Cosmic Microwave Background?\n",
    "\n",
    "Show that the kinetic temperature of baryonic matter and the brightness temperature of the\n",
    "photons that become the CMB are coupled at redshift $z=1100$, before the universe becomes neutral.\n",
    "Remember, $T_{\\rm CMB}\\propto(1+z)$ and $n_H\\approx 0.5{\\rm e-}6 (1+z)^3 {\\rm cm}^{-3}$. Also,\n",
    "left to its own devices, matter would cool adiabatically as $(1+z)^2$ as the universe expands, and\n",
    "at this epoch, $dz/dt(z=1100)\\sim-0.5{\\rm e-}13 {\\rm s}^{-1}$.\n",
    "\n",
    "One final piece of cosmology: the baryon-to-photon ratio, $\\eta\\equiv\\frac{n_B}{n_\\gamma}\\sim5{\\rm e-}10$ is a very small number, meaning there are *way* more photons out there than, say, electrons. This is probably a result of a bunch of matter/antimatter annihilation in the early universe. Why this number isn't zero (e.g. why all\n",
    "the matter and antimatter didn't cancel out) is a complete mystery."
   ]
  },
  {
   "cell_type": "code",
   "execution_count": 3,
   "metadata": {},
   "outputs": [],
   "source": [
    "# Calculations here"
   ]
  },
  {
   "cell_type": "markdown",
   "metadata": {},
   "source": [
    "__Answer:__"
   ]
  }
 ],
 "metadata": {
  "kernelspec": {
   "display_name": "Python 3",
   "language": "python",
   "name": "python3"
  },
  "language_info": {
   "codemirror_mode": {
    "name": "ipython",
    "version": 3
   },
   "file_extension": ".py",
   "mimetype": "text/x-python",
   "name": "python",
   "nbconvert_exporter": "python",
   "pygments_lexer": "ipython3",
   "version": "3.8.5"
  }
 },
 "nbformat": 4,
 "nbformat_minor": 4
}
