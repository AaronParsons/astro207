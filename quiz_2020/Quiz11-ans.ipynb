{
 "cells": [
  {
   "cell_type": "markdown",
   "metadata": {},
   "source": [
    "# C207 Activity Sheet 11 Solutions"
   ]
  },
  {
   "cell_type": "markdown",
   "metadata": {},
   "source": [
    "# Comparing CO and H$_2$\n",
    "\n",
    "Clouds of molecular hydrogen (as H$_2$ is often called) are where the gas\n",
    "in our galaxy cools down enough to form stars.  As you might imagine, if your\n",
    "job is to understand star formation, this is where you'd look.  In contrast\n",
    "to the hydrogen clouds traced by the 21cm line, these are colder ($T\\sim 10$ K)\n",
    "and more dense ($n\\sim100$ cm$^{-3}$).\n",
    "\n",
    "Cooling H$_2$ turns out to be difficult.  In this problem, we examine why."
   ]
  },
  {
   "cell_type": "markdown",
   "metadata": {},
   "source": [
    "## 1.\n",
    "\n",
    "Estimate the energies and frequencies of the first H$_2$ rotational and vibrational transitions.\n",
    "Note that, because H$_2$ is a quadrupole, not a dipole, $\\Delta J=\\pm1$ transitions are forbidden."
   ]
  },
  {
   "cell_type": "markdown",
   "metadata": {},
   "source": [
    "__Answer:__ To solve for $E_{\\rm rot}$ and $\\nu_{\\rm rot}$, we'll use that angular momentum (which, as always, comes in units of $\\hbar$) is given by\n",
    "$L=I\\omega=J\\hbar$,\n",
    "and that energy is given by $E=\\frac12I\\omega^2$, with $\\omega=2\\pi\\nu$.  To calculate $I=\\mu x^2$ we need to calculate the reduced mass, $\\mu$, and the separation between the hydrogen atoms, $x$. Let's assume the atoms are\n",
    "separated by two Bohr radii:"
   ]
  },
  {
   "cell_type": "code",
   "execution_count": 1,
   "metadata": {},
   "outputs": [
    {
     "name": "stdout",
     "output_type": "stream",
     "text": [
      "E_rot: 3.750e-14 ergs\n",
      "nu_rot: 5.968e+12 Hz\n"
     ]
    }
   ],
   "source": [
    "pi = 3.1415926\n",
    "m_p = 1.6e-24 # proton mass, g\n",
    "a0 = 0.5e-8 # Bohr radius, cm\n",
    "hbar = 1e-27 # Planck constant, erg s\n",
    "mu = m_p * m_p / (m_p + m_p) # reduced mass\n",
    "x = 2*a0 # separation between atoms\n",
    "I = mu * x**2\n",
    "def E_rot(J):\n",
    "    return hbar**2 / (2*I) * J * (J+1)\n",
    "dE_rot = E_rot(2) - E_rot(0)\n",
    "nu_rot = dE_rot / (2*pi*hbar)\n",
    "print('E_rot: %4.3e ergs' % dE_rot)\n",
    "print('nu_rot: %4.3e Hz' % nu_rot)"
   ]
  },
  {
   "cell_type": "markdown",
   "metadata": {},
   "source": [
    "Next, we use that for a harmonic potential (and all stable potentials are, to first order, harmonic) $E=\\hbar \\omega_0(n+\\frac12)$, where $\\omega_0\\equiv\\sqrt{k/\\mu}$ is the characteristic frequency of the harmonic oscillator.\n",
    "We can estimate $k$ (a force per distance) as something like the electric force between the two nuclei, divided\n",
    "by the distance between them."
   ]
  },
  {
   "cell_type": "code",
   "execution_count": 2,
   "metadata": {},
   "outputs": [
    {
     "name": "stdout",
     "output_type": "stream",
     "text": [
      "E_vib: 5.590e-13 ergs\n",
      "nu_vib: 8.897e+13 Hz\n"
     ]
    }
   ],
   "source": [
    "e = 5e-10 # electron charge, esu\n",
    "k = e**2 / x**2 * 1./x # spring constant\n",
    "omega0 = (k/mu)**0.5 # characteristic frequency\n",
    "\n",
    "def E_vib(n):\n",
    "    return hbar * omega0 * (n + 0.5)\n",
    "\n",
    "dE_vib = E_vib(1) - E_vib(0)\n",
    "nu_vib = dE_vib / (2*pi*hbar)\n",
    "print('E_vib: %4.3e ergs' % dE_vib)\n",
    "print('nu_vib: %4.3e Hz' % nu_vib)"
   ]
  },
  {
   "cell_type": "markdown",
   "metadata": {},
   "source": [
    "The true answers, by the way, are $\\nu_{\\rm rot}\\approx1.06{\\rm e}13$ and $\\nu_{\\rm vib}\\approx1.32{\\rm e}14$ Hz."
   ]
  },
  {
   "cell_type": "markdown",
   "metadata": {},
   "source": [
    "## 2.\n",
    "\n",
    "Estimate Einstein A coefficients for these two transitions, using that H$_2$ is a symmetric molecule\n",
    "(e.g. quadrupole radiator)."
   ]
  },
  {
   "cell_type": "markdown",
   "metadata": {},
   "source": [
    "__Answer:__ We can estimate these coefficients by scaling from the Einstein A of the Lyman-$\\alpha$ transition, which we\n",
    "worked out to be $A_{\\rm Ly\\alpha}\\sim5{\\rm e}8$ s$^{-1}$.  Since $A\\propto d^2\\omega^3$, we are done if we can replace the\n",
    "dipole moment $d$ with our quadrupole moment.  A quadrupole field is reduced from a dipole field by a factor\n",
    "of $(s/r)$, where $s$ is the charge separation and $r$ is the distance at which the field is evaluated.  We\n",
    "argued in lecture that, to order of magnitude, the $r$ at which our field should be evaluated is $\\lambda$, since\n",
    "the ``effective size\" of the absorbing/emitting molecule is smoothed out to that scale by the fact that an\n",
    "electric field just can't vary spatially on scales shorter than the wavelength in question."
   ]
  },
  {
   "cell_type": "code",
   "execution_count": 3,
   "metadata": {},
   "outputs": [
    {
     "name": "stdout",
     "output_type": "stream",
     "text": [
      "A_rot: 2.802e-11 s^-1\n",
      "A_vib: 2.062e-05 s^-1\n"
     ]
    }
   ],
   "source": [
    "c = 3e10 # speed of light, cm/s\n",
    "A_LyA = 5e8 # Einstein A, Lyman-alpha, s^-1\n",
    "lambda_LyA = 121.6e-7 # wavelength Lyman-alpha, cm\n",
    "nu_LyA = c / lambda_LyA\n",
    "quadru_rot = x / (c/nu_rot) # ratio of quadrupole to dipole field\n",
    "quadru_vib = x / (c/nu_vib) # ratio of quadrupole to dipole field\n",
    "A_rot = A_LyA * quadru_rot**2 * (nu_rot/nu_LyA)**3\n",
    "A_vib = A_LyA * quadru_vib**2 * (nu_vib/nu_LyA)**3\n",
    "print('A_rot: %4.3e s^-1' % A_rot)\n",
    "print('A_vib: %4.3e s^-1' % A_vib)"
   ]
  },
  {
   "cell_type": "markdown",
   "metadata": {},
   "source": [
    "The true answers are $A_{\\rm rot}\\approx3{\\rm e}-11$ and $A_{\\rm vib}\\approx2.53{\\rm e}-7$ s$^{-1}$.  We estimated the rotational transition pretty accurately, which means we did well estimating the quadrupole/dipole ratio.  We also know that we weren't far off on our estimate of the energy (or frequency) of the transition.  So why did we miss by 2 orders of magnitude on the vibrational transition?  We must be missing some physics.\n",
    "\n",
    "The physics we are missing is that in the vibrational case, the charge separation shouldn't be the full separation between the hydrogen atoms, it should be the deflection of the atoms around their equilibrium point, since that is what is changing the charge distribution (and hence, the quadrupole field).  If we set $E_{\\rm vib}=\\frac12 k(\\Delta x)^2$ using our values for $E_{\\rm vib}$ and $k$ above, and solve for $\\Delta x$, we get:"
   ]
  },
  {
   "cell_type": "code",
   "execution_count": 4,
   "metadata": {},
   "outputs": [
    {
     "name": "stdout",
     "output_type": "stream",
     "text": [
      "A_vib: 9.224e-07 s^-1\n"
     ]
    }
   ],
   "source": [
    "dx = (dE_vib / (0.5 * k))**0.5 # solving for dx in E=1/2 k dx^2\n",
    "quadru_vib = dx / (c/nu_vib)\n",
    "A_vib = A_LyA * quadru_vib**2 * (nu_vib/nu_LyA)**3\n",
    "print('A_vib: %4.3e s^-1' % A_vib)"
   ]
  },
  {
   "cell_type": "markdown",
   "metadata": {},
   "source": [
    "And that is (just barely) good to an order of magnitude."
   ]
  },
  {
   "cell_type": "markdown",
   "metadata": {},
   "source": [
    "## 3.\n",
    "\n",
    "Assuming that collisions are setting population statistics for excited/de-excited states to a temperature\n",
    "of 10 K and assuming these clouds are optically thin, which transition (vibrational or rotational) contributes\n",
    "the most to cooling this gas?  To order of magnitude long would it take to cool to 5K?"
   ]
  },
  {
   "cell_type": "markdown",
   "metadata": {},
   "source": [
    "__Answer:__ Collisions are setting excitation levels according to Boltzmann statistics:\n",
    "\\begin{equation}\n",
    "\\frac{n_i}{n_j}=\\frac{g_i}{g_j}e^{-\\frac{\\Delta E}{kT}}.\n",
    "\\end{equation}\n",
    "We have that $T\\approx10$ K, then $\\Delta E/kT$ for the rotational/vibrational transitions in question are:"
   ]
  },
  {
   "cell_type": "code",
   "execution_count": 5,
   "metadata": {},
   "outputs": [
    {
     "name": "stdout",
     "output_type": "stream",
     "text": [
      "dE_rot/kT: 26.785714285714285\n",
      "dE_vib/kT: 399.2978531249625\n"
     ]
    }
   ],
   "source": [
    "import numpy as np\n",
    "k_B = 1.4e-16 # Boltzmann constant, ergs/K\n",
    "T = 10 # K\n",
    "print('dE_rot/kT:', dE_rot/(k_B*T))\n",
    "print('dE_vib/kT:', dE_vib/(k_B*T))"
   ]
  },
  {
   "cell_type": "markdown",
   "metadata": {},
   "source": [
    "There is really no way we are going to see atoms in an excited state for $e^{-400}$, so rotational transitions are\n",
    "what is going to cool the cloud.\n",
    "\n",
    "In an optically thin cloud, to order of magnitude, each spontaneous emission of a photon carries off energy that cools the cloud.  If we watch one H$_2$ molecule, it has $E\\sim kT$ of thermal energy, and we need to get rid of about 1/2\n",
    "of it.  In the excited state, we expect to radiate energy at a rate of $P\\sim \\Delta E_{\\rm rot}\\cdot A_{20}$.  However, a given atom spends very little of it's time in the excited state.  Statistically, it spends\n",
    "$n_2/n_{H_2}$ of its time there.  If $n_{H_2}\\approx n_0$, then averaged over the two states it could be in, \n",
    "\\begin{align}\n",
    "P&\\sim\\Delta E_{\\rm rot}A_{20}\\frac{n_2}{n_{H_2}}\\\\\n",
    "P&\\sim\\Delta E_{\\rm rot}A_{20}\\frac{g_2}{g_0}e^{-\\frac{\\Delta E}{kT}}.\n",
    "\\end{align}\n",
    "The time to cool is then just $t\\sim \\frac12 kT/P$."
   ]
  },
  {
   "cell_type": "code",
   "execution_count": 6,
   "metadata": {},
   "outputs": [
    {
     "name": "stdout",
     "output_type": "stream",
     "text": [
      "n2_n0: 1.164e-11\n",
      "t_cool: 5.722e+19 s (1.907e+12 yr)\n"
     ]
    }
   ],
   "source": [
    "J = 2\n",
    "n2_n0 = (2*J+1)/1. * np.exp(-dE_rot/(k_B*T)) \n",
    "P_H2 = dE_rot * A_rot * n2_n0\n",
    "t_H2 = 0.5 * k_B * T / P_H2\n",
    "s_per_yr = 3e7\n",
    "print('n2_n0: %4.3e' % (n2_n0))\n",
    "print('t_cool: %4.3e s (%4.3e yr)' % (t_H2, t_H2/s_per_yr))"
   ]
  },
  {
   "cell_type": "markdown",
   "metadata": {},
   "source": [
    "Finally, $n_2/n_0$ is small, so we were justified in our assumption above that $n_0\\approx n_{H_2}$."
   ]
  },
  {
   "cell_type": "markdown",
   "metadata": {},
   "source": [
    "## 4 .\n",
    "Now suppose there is some CO sprinkled in with the H$_2$.  A typical CO/H$_2$ ratio in the Milky Way\n",
    "is $6{\\rm e}-5$.  Using the $J=1\\rightarrow0$ transition of CO that we examined in class and assuming\n",
    "collisions set the population statistics, how does the presence of CO change the cooling time you\n",
    "derived above?"
   ]
  },
  {
   "cell_type": "markdown",
   "metadata": {},
   "source": [
    "__Answer:__ In class, we worked out that CO's $J=1\\rightarrow0$ transition happened at 115 GHz, with an Einstein A value of\n",
    "$A_{10}\\sim2{\\rm e}-7$ s$^{-1}$.  Our calculations above tracked the amount of energy per H$_2$ molecule as we worked\n",
    "out $E/P$.  To factor CO into this calculation, we should still use $E$ for H$_2$ (because there is a lot more H$_2$;\n",
    "it's what we need to cool), but we should use $P$ for CO.  We can do that just as we did for molecular hydrogen above, but we need to reduce the power radiated by CO for being much sparser than H$_2$.  We only have $6{\\rm e}-5$ CO molecules for every H$_2$ molecule, so we get that fraction of the cooling power."
   ]
  },
  {
   "cell_type": "code",
   "execution_count": 7,
   "metadata": {},
   "outputs": [
    {
     "name": "stdout",
     "output_type": "stream",
     "text": [
      "n1_n0: 1.790e+00\n",
      "n2_n0: 1.063e+00\n",
      "n3_n0: 3.164e-01\n",
      "n4_n0: 5.161e-02\n"
     ]
    }
   ],
   "source": [
    "J_CO = 1\n",
    "nu_CO = 115e9 # Hz, J=1->0 transition in CO\n",
    "dE_CO = hbar * 2*pi*nu_CO\n",
    "A10_CO = 2e-7 # s^-1, \n",
    "n1CO_n0CO = (2*J_CO+1)/1. * np.exp(-dE_CO/(k_B*T))\n",
    "n2CO_n0CO = (2*2+1)/1. * np.exp(-dE_CO*6/2/(k_B*T))\n",
    "n3CO_n0CO = (2*3+1)/1. * np.exp(-dE_CO*12/2/(k_B*T))\n",
    "n4CO_n0CO = (2*4+1)/1. * np.exp(-dE_CO*20/2/(k_B*T))\n",
    "print('n1_n0: %4.3e' % (n1CO_n0CO))\n",
    "print('n2_n0: %4.3e' % (n2CO_n0CO))\n",
    "print('n3_n0: %4.3e' % (n3CO_n0CO))\n",
    "print('n4_n0: %4.3e' % (n4CO_n0CO))"
   ]
  },
  {
   "cell_type": "markdown",
   "metadata": {},
   "source": [
    "Unfortunately, because $\\Delta E$ is smaller for CO, more $J$ states are populated.  To get the fraction of total\n",
    "CO that is in the $J=1$ state, we need to add up the $J=0,1,2,3$ states above ($J=4$ is finally small enough to neglect).  "
   ]
  },
  {
   "cell_type": "code",
   "execution_count": 8,
   "metadata": {},
   "outputs": [
    {
     "name": "stdout",
     "output_type": "stream",
     "text": [
      "t_cool: 2.217e+11 s (7.389e+03 yr)\n"
     ]
    }
   ],
   "source": [
    "n1CO_nCO = n1CO_n0CO / (1+n1CO_n0CO+n2CO_n0CO+n2CO_n0CO)\n",
    "n1CO_nH2 = 6e-5 * n1CO_nCO\n",
    "P_CO = dE_CO * A10_CO * n1CO_nH2\n",
    "t_CO = 0.5 * k_B * T / P_CO\n",
    "print('t_cool: %4.3e s (%4.3e yr)' % (t_CO, t_CO/s_per_yr))"
   ]
  }
 ],
 "metadata": {
  "kernelspec": {
   "display_name": "Python 3",
   "language": "python",
   "name": "python3"
  },
  "language_info": {
   "codemirror_mode": {
    "name": "ipython",
    "version": 3
   },
   "file_extension": ".py",
   "mimetype": "text/x-python",
   "name": "python",
   "nbconvert_exporter": "python",
   "pygments_lexer": "ipython3",
   "version": "3.8.2"
  }
 },
 "nbformat": 4,
 "nbformat_minor": 2
}
