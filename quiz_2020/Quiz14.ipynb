{
 "cells": [
  {
   "cell_type": "markdown",
   "metadata": {},
   "source": [
    "# C207 Activity Sheet 14"
   ]
  },
  {
   "cell_type": "markdown",
   "metadata": {},
   "source": [
    "# Problem 1. Given that there are an infinite number of excited states of H, why don't we have infinite degeneracy for the bound state?"
   ]
  },
  {
   "cell_type": "markdown",
   "metadata": {},
   "source": [
    "__Answer:__\n",
    "Write a response here"
   ]
  },
  {
   "cell_type": "markdown",
   "metadata": {},
   "source": [
    "# Problem 2. How does the cross-section of a (fixed) bound-free transition scale with photon energy?"
   ]
  },
  {
   "cell_type": "markdown",
   "metadata": {},
   "source": [
    "__Answer:__\n",
    "Write a response here"
   ]
  },
  {
   "cell_type": "markdown",
   "metadata": {},
   "source": [
    "# Problem 3. Hard and Soft X-rays\n",
    "\n",
    "What is the hardest (highest energy) X-ray that would contribute to ionizing the IGM at $z\\sim15$\n",
    "(when the Hubble timescale was $H^{-1}\\sim400$ Myrs),  prior to\n",
    "reionization?  Would this same x-ray contribute to heating the \n",
    "IGM at $z\\sim6$ (with $H^{-1}\\sim1400$ Myrs), after reionization?"
   ]
  },
  {
   "cell_type": "code",
   "execution_count": 2,
   "metadata": {},
   "outputs": [],
   "source": [
    "year = 3.15e7 # seconds / year\n",
    "tH_z15 = 1/400e6 # Hubble time, years\n",
    "tH_z6 = 1/1400e6 # Hubble time, years\n",
    "# Calculations here"
   ]
  },
  {
   "cell_type": "markdown",
   "metadata": {},
   "source": [
    "__Answer:__\n",
    "Write a response here"
   ]
  },
  {
   "cell_type": "markdown",
   "metadata": {},
   "source": [
    "# Problem 4. Weighing the Universe\n",
    "\n",
    "Knowing that the redshift of recombination was $z\\sim1100$ and that the CMB temperature today is $2.7K$, what should\n",
    "be the density of baryons in the universe today?  Compare this to $\\rho_{\\rm c}=3H^2/8\\pi G\\sim1{\\rm e-}29 \\frac{\\rm g}{\\rm cm^3}$, the critical energy density\n",
    "required for a flat universe today.  It may help to know that $T_{CMB}\\propto(1+z)$ and $n\\propto(1+z)^3$. Note:\n",
    "We define the redshift of recombination to be when photons stopped interacting with hydrogen via ionization. In practice (this requires some cosmology), this happens with an ionization fraction of about 25\\%.\n",
    "the correct answer is $\\rho_{b}/\\rho_{\\rm c}\\sim0.02$."
   ]
  },
  {
   "cell_type": "code",
   "execution_count": 10,
   "metadata": {},
   "outputs": [],
   "source": [
    "import numpy as np\n",
    "\n",
    "z_rec = 1100 # recombination redshift\n",
    "T0_cmb = 2.7 # K, CMB temperature today at z=0\n",
    "rho_c = 1e-29 # g/cm^3, critical density of universe today\n",
    "E_ion = 13.6 # eV, ionization energy of hydrogen\n",
    "eV = 1.6e-12 # ergs per eV\n",
    "k_B = 1.4e-16 # ergs/K, Boltzmann constant\n",
    "m_e = 1e-27 # g, electron mass\n",
    "h = 1e-27 # erg s, Planck constant\n",
    "f_ion = 0.25 # fraction ionized at z_rec\n",
    "\n",
    "def T_cmb(z):\n",
    "    return T0_cmb * (1+z)\n",
    "\n",
    "# Calculations here"
   ]
  },
  {
   "cell_type": "markdown",
   "metadata": {},
   "source": [
    "__Answer:__\n",
    "Write a response here"
   ]
  }
 ],
 "metadata": {
  "kernelspec": {
   "display_name": "Python 3",
   "language": "python",
   "name": "python3"
  },
  "language_info": {
   "codemirror_mode": {
    "name": "ipython",
    "version": 3
   },
   "file_extension": ".py",
   "mimetype": "text/x-python",
   "name": "python",
   "nbconvert_exporter": "python",
   "pygments_lexer": "ipython3",
   "version": "3.8.5"
  }
 },
 "nbformat": 4,
 "nbformat_minor": 4
}
